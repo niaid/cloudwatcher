{
 "cells": [
  {
   "cell_type": "markdown",
   "metadata": {},
   "source": [
    "# `cloudwatcher` Python API usage\n",
    "\n",
    "The purpose of this page is to provide a quick overview of the `cloudwatcher` Python API. The package consists of two user-facing classes:\n",
    "\n",
    "- `MetricWatcher`: This class is used to interact with AWS CloudWatch metrics.\n",
    "- `LogWatcher`: This class is used to interact with AWS CloudWatch logs.\n",
    "\n",
    "Both of these classes inherit from the `CloudWatcher` class.\n",
    "\n",
    "## `MetricWatcher`: convenient interface to AWS CloudWatch metrics\n",
    "\n",
    "`MetricWatcher` can be used to interact with AWS CloudWatch metrics. "
   ]
  },
  {
   "cell_type": "markdown",
   "metadata": {},
   "source": [
    "### `MetricWatcher` initialization\n",
    "\n",
    "As described in the Login credentials section, the AWS credentials can be sourced from environment variables: `AWS_ACCESS_KEY_ID`, `AWS_SECRET_ACCESS_KEY`, `AWS_SESSION_TOKEN`.\n",
    "Alternatively, you can pass the values as arguments to the `MetricWatcher` constructor."
   ]
  },
  {
   "cell_type": "code",
   "execution_count": 60,
   "metadata": {},
   "outputs": [],
   "source": [
    "from cloudwatcher.metricwatcher import MetricWatcher\n",
    "from cloudwatcher.preset import Dimension\n",
    "from dotenv import load_dotenv\n",
    "import os\n",
    "\n",
    "load_dotenv()\n",
    "\n",
    "instance_id = os.environ.get(\"INSTANCE_ID\")\n",
    "mw = MetricWatcher(\n",
    "    namespace=\"NepheleNamespaceEC2\",\n",
    "    metric_name=\"mem_used\",\n",
    "    metric_id=\"mem_used\",\n",
    "    metric_unit=\"Bytes\",\n",
    "    dimensions_list=[Dimension(Name=\"InstanceId\", Value=instance_id)],\n",
    ")"
   ]
  },
  {
   "attachments": {},
   "cell_type": "markdown",
   "metadata": {},
   "source": [
    "### `MetricWatcher` presets\n",
    "\n",
    "As you can see there are multiple arguments that can be passed to `MetricWatcher` constructor. In order to improve the UX when using `MetricWatcher` `cloudwatcher` package provides a few presets that can be used to query the data reported by `CloudWatchAgent` within certain systems. Additionally, custom presets can be defined by the user and used in the same way.\n",
    "\n",
    "Presets are JSON-formatted files that provide parameter bundles for `MetricWatcher` initialization.\n",
    "\n",
    "#### Usage\n",
    "\n",
    "Listing available presets:\n"
   ]
  },
  {
   "cell_type": "code",
   "execution_count": 61,
   "metadata": {},
   "outputs": [
    {
     "data": {
      "text/html": [
       "<pre style=\"white-space:pre;overflow-x:auto;line-height:normal;font-family:Menlo,'DejaVu Sans Mono',consolas,'Courier New',monospace\"><span style=\"font-style: italic\">                 Presets available in: /Users/stolarczykmj/code/cloudwatcher/cloudwatcher/presets                  </span>\n",
       "┏━━━━━━━━━━━━━━━━━━━━━━━━━━━━━━━━━━━━━━━━┳━━━━━━━━━━━━━━━━━━━━━━━━━━━━━━━━━━━━━━━━━━━━━━━━━━━━━━━━━━━━━━━━━━━━━━━━┓\n",
       "┃<span style=\"color: #800080; text-decoration-color: #800080; font-weight: bold\"> Name                                   </span>┃<span style=\"color: #800080; text-decoration-color: #800080; font-weight: bold\"> Path                                                                   </span>┃\n",
       "┡━━━━━━━━━━━━━━━━━━━━━━━━━━━━━━━━━━━━━━━━╇━━━━━━━━━━━━━━━━━━━━━━━━━━━━━━━━━━━━━━━━━━━━━━━━━━━━━━━━━━━━━━━━━━━━━━━━┩\n",
       "│ nephele_disk_used_percent              │<span style=\"color: #7f7f7f; text-decoration-color: #7f7f7f\"> /Users/stolarczykmj/code/cloudwatcher/cloudwatcher/presets/nephele_di… </span>│\n",
       "│ nephele_mem_cached                     │<span style=\"color: #7f7f7f; text-decoration-color: #7f7f7f\"> /Users/stolarczykmj/code/cloudwatcher/cloudwatcher/presets/nephele_me… </span>│\n",
       "│ nephele_mem                            │<span style=\"color: #7f7f7f; text-decoration-color: #7f7f7f\"> /Users/stolarczykmj/code/cloudwatcher/cloudwatcher/presets/nephele_me… </span>│\n",
       "│ nephele_disk_used_percent_nephele_data │<span style=\"color: #7f7f7f; text-decoration-color: #7f7f7f\"> /Users/stolarczykmj/code/cloudwatcher/cloudwatcher/presets/nephele_di… </span>│\n",
       "│ nephele_cpu_usage_user                 │<span style=\"color: #7f7f7f; text-decoration-color: #7f7f7f\"> /Users/stolarczykmj/code/cloudwatcher/cloudwatcher/presets/nephele_cp… </span>│\n",
       "│ nephele_processes_dead                 │<span style=\"color: #7f7f7f; text-decoration-color: #7f7f7f\"> /Users/stolarczykmj/code/cloudwatcher/cloudwatcher/presets/nephele_pr… </span>│\n",
       "│ nephele_swap_used_percent              │<span style=\"color: #7f7f7f; text-decoration-color: #7f7f7f\"> /Users/stolarczykmj/code/cloudwatcher/cloudwatcher/presets/nephele_sw… </span>│\n",
       "│ nephele_swap_used                      │<span style=\"color: #7f7f7f; text-decoration-color: #7f7f7f\"> /Users/stolarczykmj/code/cloudwatcher/cloudwatcher/presets/nephele_sw… </span>│\n",
       "└────────────────────────────────────────┴────────────────────────────────────────────────────────────────────────┘\n",
       "</pre>\n"
      ],
      "text/plain": [
       "\u001b[3m                 Presets available in: /Users/stolarczykmj/code/cloudwatcher/cloudwatcher/presets                  \u001b[0m\n",
       "┏━━━━━━━━━━━━━━━━━━━━━━━━━━━━━━━━━━━━━━━━┳━━━━━━━━━━━━━━━━━━━━━━━━━━━━━━━━━━━━━━━━━━━━━━━━━━━━━━━━━━━━━━━━━━━━━━━━┓\n",
       "┃\u001b[1;35m \u001b[0m\u001b[1;35mName                                  \u001b[0m\u001b[1;35m \u001b[0m┃\u001b[1;35m \u001b[0m\u001b[1;35mPath                                                                  \u001b[0m\u001b[1;35m \u001b[0m┃\n",
       "┡━━━━━━━━━━━━━━━━━━━━━━━━━━━━━━━━━━━━━━━━╇━━━━━━━━━━━━━━━━━━━━━━━━━━━━━━━━━━━━━━━━━━━━━━━━━━━━━━━━━━━━━━━━━━━━━━━━┩\n",
       "│ nephele_disk_used_percent              │\u001b[2m \u001b[0m\u001b[2m/Users/stolarczykmj/code/cloudwatcher/cloudwatcher/presets/nephele_di…\u001b[0m\u001b[2m \u001b[0m│\n",
       "│ nephele_mem_cached                     │\u001b[2m \u001b[0m\u001b[2m/Users/stolarczykmj/code/cloudwatcher/cloudwatcher/presets/nephele_me…\u001b[0m\u001b[2m \u001b[0m│\n",
       "│ nephele_mem                            │\u001b[2m \u001b[0m\u001b[2m/Users/stolarczykmj/code/cloudwatcher/cloudwatcher/presets/nephele_me…\u001b[0m\u001b[2m \u001b[0m│\n",
       "│ nephele_disk_used_percent_nephele_data │\u001b[2m \u001b[0m\u001b[2m/Users/stolarczykmj/code/cloudwatcher/cloudwatcher/presets/nephele_di…\u001b[0m\u001b[2m \u001b[0m│\n",
       "│ nephele_cpu_usage_user                 │\u001b[2m \u001b[0m\u001b[2m/Users/stolarczykmj/code/cloudwatcher/cloudwatcher/presets/nephele_cp…\u001b[0m\u001b[2m \u001b[0m│\n",
       "│ nephele_processes_dead                 │\u001b[2m \u001b[0m\u001b[2m/Users/stolarczykmj/code/cloudwatcher/cloudwatcher/presets/nephele_pr…\u001b[0m\u001b[2m \u001b[0m│\n",
       "│ nephele_swap_used_percent              │\u001b[2m \u001b[0m\u001b[2m/Users/stolarczykmj/code/cloudwatcher/cloudwatcher/presets/nephele_sw…\u001b[0m\u001b[2m \u001b[0m│\n",
       "│ nephele_swap_used                      │\u001b[2m \u001b[0m\u001b[2m/Users/stolarczykmj/code/cloudwatcher/cloudwatcher/presets/nephele_sw…\u001b[0m\u001b[2m \u001b[0m│\n",
       "└────────────────────────────────────────┴────────────────────────────────────────────────────────────────────────┘\n"
      ]
     },
     "metadata": {},
     "output_type": "display_data"
    }
   ],
   "source": [
    "from cloudwatcher.preset import PresetFilesInventory\n",
    "from rich.console import Console\n",
    "\n",
    "pfi = PresetFilesInventory()\n",
    "Console().print(pfi.presets_table)"
   ]
  },
  {
   "cell_type": "markdown",
   "metadata": {},
   "source": [
    "Using a preset:"
   ]
  },
  {
   "cell_type": "code",
   "execution_count": 62,
   "metadata": {},
   "outputs": [],
   "source": [
    "from cloudwatcher.preset import MetricWatcherSetup\n",
    "mw_setup = MetricWatcherSetup.from_json(pfi.get_preset_path(\"nephele_mem\"))\n",
    "mw_setup.upsert_dimensions([f\"InstanceId:{instance_id}\"])\n",
    "mw = MetricWatcher(**mw_setup.to_dict())\n",
    "query_kwargs = {\n",
    "    \"days\": 5,\n",
    "    \"hours\": 0,\n",
    "    \"minutes\": 0,\n",
    "    \"stat\": \"Maximum\",\n",
    "    \"period\": 60,\n",
    "}\n",
    "response = mw.query_ec2_metrics(**query_kwargs)\n"
   ]
  },
  {
   "cell_type": "markdown",
   "metadata": {},
   "source": [
    "\n",
    "\n",
    "\n",
    "### Querying AWS CloudWatch metrics\n",
    "\n",
    "In order to specify the EC2 instace query settings (period, granularity, etc.), the user would need to provide multiple parameters. To make it easier, there are a few sensible presets that can be used to select the query settings, which are passed to `query_ec2_metrics` method. These presets are defined to query the data reported by `CloudWatchAgent` within the last day, hour or minute."
   ]
  },
  {
   "cell_type": "markdown",
   "metadata": {},
   "source": [
    "The presets can be used by passing the `query_preset` argument to the functions presented below. Alternatively, users can pass `query_kwargs` argument, which overrides the preset values.\n",
    "\n",
    "### Logging methods\n",
    "\n",
    "There is a method that can be used to log the metric to the screen. The EC2 instance is automatically queried if the query response is not provided."
   ]
  },
  {
   "cell_type": "markdown",
   "metadata": {},
   "source": [
    "### File saving methods\n",
    "\n",
    "There are number of methods that can be used to save the metric data to a file. Again, the EC2 instance is automatically queried if the query response is not provided.\n"
   ]
  },
  {
   "cell_type": "code",
   "execution_count": 63,
   "metadata": {},
   "outputs": [
    {
     "data": {
      "image/png": "[encoded data removed]",
      "text/plain": [
       "<Figure size 640x480 with 1 Axes>"
      ]
     },
     "metadata": {},
     "output_type": "display_data"
    }
   ],
   "source": [
    "mw.save_metric_plot(file_path=f\"/tmp/{instance_id}_plot.png\", query_kwargs=query_kwargs)\n",
    "mw.save_metric_csv(file_path=f\"/tmp/{instance_id}_metric.csv\", query_kwargs=query_kwargs)\n",
    "mw.save_metric_json(file_path=f\"/tmp/{instance_id}_metric.json\", query_kwargs=query_kwargs)\n",
    "mw.save_response_json(file_path=f\"/tmp/{instance_id}_response.json\", query_kwargs=query_kwargs)"
   ]
  },
  {
   "cell_type": "markdown",
   "metadata": {},
   "source": [
    "### Manual EC2 querying\n",
    "\n",
    "For users that require more control over the EC2 instance query settings, the `query_ec2_metrics` method can be used to manually query the EC2 instance. For instance it allows to fine tune the query period settings."
   ]
  },
  {
   "cell_type": "code",
   "execution_count": 64,
   "metadata": {},
   "outputs": [
    {
     "data": {
      "text/plain": [
       "{'RequestId': '52074cc6-470c-470a-a52d-5cab88fbdda0',\n",
       " 'HTTPStatusCode': 200,\n",
       " 'HTTPHeaders': {'x-amzn-requestid': '52074cc6-470c-470a-a52d-5cab88fbdda0',\n",
       "  'content-type': 'text/xml',\n",
       "  'content-length': '1596',\n",
       "  'date': 'Wed, 25 Jan 2023 20:53:18 GMT'},\n",
       " 'RetryAttempts': 0}"
      ]
     },
     "execution_count": 64,
     "metadata": {},
     "output_type": "execute_result"
    }
   ],
   "source": [
    "FINE_TUNED_SETTINGS = {\n",
    "    \"days\": 5,\n",
    "    \"hours\": 0,\n",
    "    \"minutes\": 0,\n",
    "    \"stat\": \"Maximum\",\n",
    "    \"period\": 60,\n",
    "}\n",
    "response = mw.query_ec2_metrics(**FINE_TUNED_SETTINGS)\n",
    "\n",
    "response[\"ResponseMetadata\"]"
   ]
  },
  {
   "cell_type": "markdown",
   "metadata": {},
   "source": [
    "### `TimedMetric` dataclass\n",
    "\n",
    "Internally, the package uses `TimedMetric` dataclass to store the metric data. This dataclass is used to store the metric data and provide a convenient interface to access the data. It can be also used to interact with the metric data by the user."
   ]
  },
  {
   "cell_type": "code",
   "execution_count": 65,
   "metadata": {},
   "outputs": [
    {
     "name": "stdout",
     "output_type": "stream",
     "text": [
      "<class 'cloudwatcher.metric_handlers.TimedMetric'>\n"
     ]
    },
    {
     "data": {
      "text/plain": [
       "[487075840.0,\n",
       " 3613966336.0,\n",
       " 5853335552.0,\n",
       " 5131206656.0,\n",
       " 5107838976.0,\n",
       " 3095851008.0,\n",
       " 2578575360.0,\n",
       " 2525331456.0,\n",
       " 2160402432.0]"
      ]
     },
     "execution_count": 65,
     "metadata": {},
     "output_type": "execute_result"
    }
   ],
   "source": [
    "response = mw.query_ec2_metrics(**FINE_TUNED_SETTINGS)\n",
    "timed_metric = mw.timed_metric_factory(response)[0]\n",
    "print(timed_metric.__class__)\n",
    "timed_metric.values[1:10]"
   ]
  },
  {
   "attachments": {},
   "cell_type": "markdown",
   "metadata": {},
   "source": [
    "## `LogWatcher`: convenient interface to AWS CloudWatch logs\n",
    "\n",
    "`LogWatcher` can be used to interact with AWS CloudWatch logs.\n",
    "\n",
    "### `LogWatcher` initialization\n",
    "\n",
    "As described in the Login credentials section, the AWS credentials can be sourced from environment variables: `AWS_ACCESS_KEY_ID`, `AWS_SECRET_ACCESS_KEY`, `AWS_SESSION_TOKEN`.\n",
    "Alternatively, you can pass the values as arguments to the `LogWatcher` constructor."
   ]
  },
  {
   "cell_type": "code",
   "execution_count": 66,
   "metadata": {},
   "outputs": [],
   "source": [
    "from cloudwatcher.logwatcher import LogWatcher\n",
    "from dotenv import load_dotenv\n",
    "import os\n",
    "\n",
    "load_dotenv()\n",
    "\n",
    "lw = LogWatcher(\n",
    "    log_group_name=os.environ.get(\"LOG_GROUP_NAME\"),\n",
    "    log_stream_name=os.environ.get(\"LOG_STREAM_NAME\"),\n",
    ")"
   ]
  },
  {
   "attachments": {},
   "cell_type": "markdown",
   "metadata": {},
   "source": [
    "Importantly, you can also provide the start token for the log, which will be used to determine the starting point of the log query."
   ]
  },
  {
   "attachments": {},
   "cell_type": "markdown",
   "metadata": {},
   "source": [
    "### Log streaming\n",
    "\n",
    "`LogWatcher` provides a convenient interface to stream the logs from AWS CloudWatch. There are 2 relevant parameters in `stream_cloudwatch_logs` method:\n",
    "\n",
    "- `events_limit` - the maximum number of events to be returned. If the value is set to `None`, 1000 events are returned\n",
    "- `max_retry_attempts` - the maximum number of retry attempts to be made if the query results with an empty log\n",
    "\n",
    "The `stream_cloudwatch_logs` method returns a generator that yields the log events, for example in a `for` loop. In the example below , we use `next` to get the first event from the generator."
   ]
  },
  {
   "cell_type": "code",
   "execution_count": 67,
   "metadata": {},
   "outputs": [
    {
     "data": {
      "text/plain": [
       "([{'timestamp': 1673452248277,\n",
       "   'message': '[2023-01-11 10:50:47,354 - INFO] Nephele, developed by BCBB/OCICB/NIAID/NIH version: 2.21.8, tag: Nephele_2022_December_22, commit: caa66b1',\n",
       "   'ingestionTime': 1673452249530},\n",
       "  {'timestamp': 1673452248277,\n",
       "   'message': '[2023-01-11 10:50:47,354 - INFO] Python version: 3.8.13',\n",
       "   'ingestionTime': 1673452249530}],\n",
       " 'f/37319232190733584015059832158212944362474954267242725377/s')"
      ]
     },
     "execution_count": 67,
     "metadata": {},
     "output_type": "execute_result"
    }
   ],
   "source": [
    "streamer = lw.stream_cloudwatch_logs(events_limit=2, max_retry_attempts=2)\n",
    "next(streamer)"
   ]
  },
  {
   "attachments": {},
   "cell_type": "markdown",
   "metadata": {},
   "source": [
    "As you can see, the log events are returned as a `Tuple[List[Dict], str]`, where the first element is a list of log events and the second element is the next token. The next token can be used to get the next batch of log events. The token can be provided to the `LogWatcher` constructor to start streaming from the last event.\n",
    "\n",
    "### Retrieving all logs\n",
    "\n",
    "Alternatively, the `return_formatted_logs` method can be used to retrieve all the logs. This method returns a `Tuple[str,str]`, where the first element is the formatted log and the second element is the next token. "
   ]
  },
  {
   "cell_type": "code",
   "execution_count": 68,
   "metadata": {},
   "outputs": [
    {
     "name": "stdout",
     "output_type": "stream",
     "text": [
      "Token: f/37319244494578777554547009354944727373821660766530404351/s\n",
      "Log first 1000 characters: \n",
      "[11-01-2023 10:50:48 UTC] Nephele, developed by BCBB/OCICB/NIAID/NIH version: 2.21.8, tag: Nephele_2022_December_22, commit: caa66b1\n",
      "[11-01-2023 10:50:48 UTC] Python version: 3.8.13\n",
      "[11-01-2023 10:50:48 UTC] Current time: 2023-01-11 10:50\n",
      "[11-01-2023 10:50:48 UTC] Pipeline name: DADA2\n",
      "[11-01-2023 10:50:48 UTC] Job Description: test\n",
      "[11-01-2023 10:50:48 UTC] Job parameters\n",
      "[11-01-2023 10:50:48 UTC] job_id: d5b6be48d21e\n",
      "[11-01-2023 10:50:48 UTC] inputs_dir: None\n",
      "[11-01-2023 10:50:48 UTC] outputs_dir: None\n",
      "[11-01-2023 10:50:48 UTC] map_file: <_io.TextIOWrapper name='/nephele_data/inputs/N2_16S_example_mapping_file_min_corrected.txt' mode='r' encoding='UTF-8'>\n",
      "[11-01-2023 10:50:48 UTC] data_type: PE\n",
      "[11-01-2023 10:50:48 UTC] wurlitzer_stdout: file\n",
      "[11-01-2023 10:50:48 UTC] wurlitzer_stderr: file\n",
      "[11-01-2023 10:50:48 UTC] ion_torrent: False\n",
      "[11-01-2023 10:50:48 UTC] trimleft_fwd: 0\n",
      "[11-01-2023 10:50:48 UTC] trimleft_rev: 0\n",
      "[11-01-2023 10:50:48 UTC] maxee: 5\n",
      "[11-01-2023 10:50:48 UTC] truncle\n"
     ]
    }
   ],
   "source": [
    "formatted_logs = lw.return_formatted_logs()\n",
    "\n",
    "print(f\"Token: {formatted_logs[1]}\")\n",
    "print(f\"Log first 1000 characters: \\n{formatted_logs[0][0:1000]}\")\n"
   ]
  }
 ],
 "metadata": {
  "kernelspec": {
   "display_name": "Python 3.8.9 ('cloudwatcher-KxCCWe1d-py3.8')",
   "language": "python",
   "name": "python3"
  },
  "language_info": {
   "codemirror_mode": {
    "name": "ipython",
    "version": 3
   },
   "file_extension": ".py",
   "mimetype": "text/x-python",
   "name": "python",
   "nbconvert_exporter": "python",
   "pygments_lexer": "ipython3",
   "version": "3.8.9"
  },
  "orig_nbformat": 4,
  "vscode": {
   "interpreter": {
    "hash": "4d7f7e559600332ff0dc37dc6eb58bfc6431dddd5a32651386b47ac3a3367ecf"
   }
  }
 },
 "nbformat": 4,
 "nbformat_minor": 2
}
