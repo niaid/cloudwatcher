{
 "cells": [
  {
   "cell_type": "markdown",
   "metadata": {},
   "source": [
    "# `cloudwatcher` Python API usage\n",
    "\n",
    "The purpose of this page is to provide a quick overview of the `cloudwatcher` Python API. The package consists of two user-facing classes:\n",
    "\n",
    "- `MetricWatcher`: This class is used to interact with AWS CloudWatch metrics.\n",
    "- `LogWatcher`: This class is used to interact with AWS CloudWatch logs.\n",
    "\n",
    "Both of these classes inherit from the `CloudWatcher` class.\n",
    "\n",
    "## `MetricWatcher`: convenient interface to AWS CloudWatch metrics\n",
    "\n",
    "`MetricWatcher` can be used to interact with AWS CloudWatch metrics. "
   ]
  },
  {
   "cell_type": "markdown",
   "metadata": {},
   "source": [
    "### `MetricWatcher` initialization\n",
    "\n",
    "As described in the Login credentials section, the AWS credentials can be sourced from environment variables: `AWS_ACCESS_KEY_ID`, `AWS_SECRET_ACCESS_KEY`, `AWS_SESSION_TOKEN`.\n",
    "Alternatively, you can pass the values as arguments to the `MetricWatcher` constructor."
   ]
  },
  {
   "cell_type": "code",
   "execution_count": 7,
   "metadata": {},
   "outputs": [],
   "source": [
    "from cloudwatcher.metricwatcher import MetricWatcher\n",
    "from cloudwatcher.preset import Dimension\n",
    "from dotenv import load_dotenv\n",
    "import os\n",
    "\n",
    "load_dotenv()\n",
    "\n",
    "instance_id = os.environ.get(\"INSTANCE_ID\")\n",
    "mw = MetricWatcher(\n",
    "    namespace=\"NepheleNamespaceEC2\",\n",
    "    metric_name=\"mem_used\",\n",
    "    metric_id=\"mem_used\",\n",
    "    metric_unit=\"Bytes\",\n",
    "    dimensions_list=[Dimension(Name=\"InstanceId\", Value=instance_id)],\n",
    ")"
   ]
  },
  {
   "cell_type": "markdown",
   "metadata": {},
   "source": [
    "### `MetricWatcher` presets\n",
    "\n",
    "As you can see there are multiple arguments that can be passed to the `MetricWatcher` constructor. In order to improve the UX when using `MetricWatcher`. The `cloudwatcher` package provides a few presets that can be used to query the data reported by `CloudWatchAgent` within certain systems. Additionally, custom presets can be defined by the user and used in the same way.\n",
    "\n",
    "Presets are JSON-formatted files that provide parameter bundles for `MetricWatcher` initialization.\n",
    "\n",
    "#### Usage\n",
    "\n",
    "Listing available presets:\n"
   ]
  },
  {
   "cell_type": "code",
   "execution_count": 8,
   "metadata": {},
   "outputs": [
    {
     "data": {
      "text/html": [
       "<pre style=\"white-space:pre;overflow-x:auto;line-height:normal;font-family:Menlo,'DejaVu Sans Mono',consolas,'Courier New',monospace\"><span style=\"font-style: italic\">                 Presets available in: /Users/stolarczykmj/code/cloudwatcher/cloudwatcher/presets                  </span>\n",
       "┏━━━━━━━━━━━━━━━━━━━━━━━━━━━━━━━━━━━━━━━━┳━━━━━━━━━━━━━━━━━━━━━━━━━━━━━━━━━━━━━━━━━━━━━━━━━━━━━━━━━━━━━━━━━━━━━━━━┓\n",
       "┃<span style=\"color: #800080; text-decoration-color: #800080; font-weight: bold\"> Name                                   </span>┃<span style=\"color: #800080; text-decoration-color: #800080; font-weight: bold\"> Path                                                                   </span>┃\n",
       "┡━━━━━━━━━━━━━━━━━━━━━━━━━━━━━━━━━━━━━━━━╇━━━━━━━━━━━━━━━━━━━━━━━━━━━━━━━━━━━━━━━━━━━━━━━━━━━━━━━━━━━━━━━━━━━━━━━━┩\n",
       "│ nephele_disk_used_percent              │<span style=\"color: #7f7f7f; text-decoration-color: #7f7f7f\"> /Users/stolarczykmj/code/cloudwatcher/cloudwatcher/presets/nephele_di… </span>│\n",
       "│ nephele_mem_cached                     │<span style=\"color: #7f7f7f; text-decoration-color: #7f7f7f\"> /Users/stolarczykmj/code/cloudwatcher/cloudwatcher/presets/nephele_me… </span>│\n",
       "│ nephele_mem                            │<span style=\"color: #7f7f7f; text-decoration-color: #7f7f7f\"> /Users/stolarczykmj/code/cloudwatcher/cloudwatcher/presets/nephele_me… </span>│\n",
       "│ nephele_disk_used_percent_nephele_data │<span style=\"color: #7f7f7f; text-decoration-color: #7f7f7f\"> /Users/stolarczykmj/code/cloudwatcher/cloudwatcher/presets/nephele_di… </span>│\n",
       "│ nephele_cpu_usage_user                 │<span style=\"color: #7f7f7f; text-decoration-color: #7f7f7f\"> /Users/stolarczykmj/code/cloudwatcher/cloudwatcher/presets/nephele_cp… </span>│\n",
       "│ nephele_processes_dead                 │<span style=\"color: #7f7f7f; text-decoration-color: #7f7f7f\"> /Users/stolarczykmj/code/cloudwatcher/cloudwatcher/presets/nephele_pr… </span>│\n",
       "│ nephele_swap_used_percent              │<span style=\"color: #7f7f7f; text-decoration-color: #7f7f7f\"> /Users/stolarczykmj/code/cloudwatcher/cloudwatcher/presets/nephele_sw… </span>│\n",
       "│ nephele_swap_used                      │<span style=\"color: #7f7f7f; text-decoration-color: #7f7f7f\"> /Users/stolarczykmj/code/cloudwatcher/cloudwatcher/presets/nephele_sw… </span>│\n",
       "└────────────────────────────────────────┴────────────────────────────────────────────────────────────────────────┘\n",
       "</pre>\n"
      ],
      "text/plain": [
       "\u001b[3m                 Presets available in: /Users/stolarczykmj/code/cloudwatcher/cloudwatcher/presets                  \u001b[0m\n",
       "┏━━━━━━━━━━━━━━━━━━━━━━━━━━━━━━━━━━━━━━━━┳━━━━━━━━━━━━━━━━━━━━━━━━━━━━━━━━━━━━━━━━━━━━━━━━━━━━━━━━━━━━━━━━━━━━━━━━┓\n",
       "┃\u001b[1;35m \u001b[0m\u001b[1;35mName                                  \u001b[0m\u001b[1;35m \u001b[0m┃\u001b[1;35m \u001b[0m\u001b[1;35mPath                                                                  \u001b[0m\u001b[1;35m \u001b[0m┃\n",
       "┡━━━━━━━━━━━━━━━━━━━━━━━━━━━━━━━━━━━━━━━━╇━━━━━━━━━━━━━━━━━━━━━━━━━━━━━━━━━━━━━━━━━━━━━━━━━━━━━━━━━━━━━━━━━━━━━━━━┩\n",
       "│ nephele_disk_used_percent              │\u001b[2m \u001b[0m\u001b[2m/Users/stolarczykmj/code/cloudwatcher/cloudwatcher/presets/nephele_di…\u001b[0m\u001b[2m \u001b[0m│\n",
       "│ nephele_mem_cached                     │\u001b[2m \u001b[0m\u001b[2m/Users/stolarczykmj/code/cloudwatcher/cloudwatcher/presets/nephele_me…\u001b[0m\u001b[2m \u001b[0m│\n",
       "│ nephele_mem                            │\u001b[2m \u001b[0m\u001b[2m/Users/stolarczykmj/code/cloudwatcher/cloudwatcher/presets/nephele_me…\u001b[0m\u001b[2m \u001b[0m│\n",
       "│ nephele_disk_used_percent_nephele_data │\u001b[2m \u001b[0m\u001b[2m/Users/stolarczykmj/code/cloudwatcher/cloudwatcher/presets/nephele_di…\u001b[0m\u001b[2m \u001b[0m│\n",
       "│ nephele_cpu_usage_user                 │\u001b[2m \u001b[0m\u001b[2m/Users/stolarczykmj/code/cloudwatcher/cloudwatcher/presets/nephele_cp…\u001b[0m\u001b[2m \u001b[0m│\n",
       "│ nephele_processes_dead                 │\u001b[2m \u001b[0m\u001b[2m/Users/stolarczykmj/code/cloudwatcher/cloudwatcher/presets/nephele_pr…\u001b[0m\u001b[2m \u001b[0m│\n",
       "│ nephele_swap_used_percent              │\u001b[2m \u001b[0m\u001b[2m/Users/stolarczykmj/code/cloudwatcher/cloudwatcher/presets/nephele_sw…\u001b[0m\u001b[2m \u001b[0m│\n",
       "│ nephele_swap_used                      │\u001b[2m \u001b[0m\u001b[2m/Users/stolarczykmj/code/cloudwatcher/cloudwatcher/presets/nephele_sw…\u001b[0m\u001b[2m \u001b[0m│\n",
       "└────────────────────────────────────────┴────────────────────────────────────────────────────────────────────────┘\n"
      ]
     },
     "metadata": {},
     "output_type": "display_data"
    }
   ],
   "source": [
    "from cloudwatcher.preset import PresetFilesInventory\n",
    "from rich.console import Console\n",
    "\n",
    "pfi = PresetFilesInventory()\n",
    "Console().print(pfi.presets_table)\n"
   ]
  },
  {
   "cell_type": "markdown",
   "metadata": {},
   "source": [
    "Using a preset:"
   ]
  },
  {
   "cell_type": "code",
   "execution_count": 9,
   "metadata": {},
   "outputs": [],
   "source": [
    "from cloudwatcher.preset import MetricWatcherSetup\n",
    "mw_setup = MetricWatcherSetup.from_json(pfi.get_preset_path(\"nephele_mem\"))\n",
    "mw_setup.upsert_dimensions([f\"InstanceId:{instance_id}\"])\n",
    "mw = MetricWatcher(**mw_setup.to_dict())\n",
    "query_kwargs = {\n",
    "    \"days\": 5,\n",
    "    \"hours\": 0,\n",
    "    \"minutes\": 0,\n",
    "    \"stat\": \"Maximum\",\n",
    "    \"period\": 60,\n",
    "}\n",
    "response = mw.query_ec2_metrics(**query_kwargs)\n"
   ]
  },
  {
   "cell_type": "markdown",
   "metadata": {},
   "source": [
    "\n",
    "\n",
    "\n",
    "### Querying AWS CloudWatch metrics\n",
    "\n",
    "In order to specify the EC2 instace query settings (period, granularity, etc.), the user would need to provide multiple parameters. To make it easier, there are a few sensible presets that can be used to select the query settings, which are passed to `query_ec2_metrics` method. These presets are defined to query the data reported by `CloudWatchAgent` within the last day, hour or minute."
   ]
  },
  {
   "cell_type": "markdown",
   "metadata": {},
   "source": [
    "The presets can be used by passing the `query_preset` argument to the functions presented below. Alternatively, users can pass `query_kwargs` argument, which overrides the preset values.\n",
    "\n",
    "### Logging methods\n",
    "\n",
    "There is a method that can be used to log the metric to the screen. The EC2 instance is automatically queried if the query response is not provided."
   ]
  },
  {
   "cell_type": "markdown",
   "metadata": {},
   "source": [
    "### File saving methods\n",
    "\n",
    "There are number of methods that can be used to save the metric data to a file. Again, the EC2 instance is automatically queried if the query response is not provided.\n"
   ]
  },
  {
   "cell_type": "code",
   "execution_count": 10,
   "metadata": {},
   "outputs": [
    {
     "data": {
      "image/png": "[encoded data removed]",
      "text/plain": [
       "<Figure size 640x480 with 1 Axes>"
      ]
     },
     "metadata": {},
     "output_type": "display_data"
    }
   ],
   "source": [
    "mw.save_metric_plot(file_path=f\"/tmp/{instance_id}_plot.png\", query_kwargs=query_kwargs)\n",
    "mw.save_metric_csv(file_path=f\"/tmp/{instance_id}_metric.csv\", query_kwargs=query_kwargs)\n",
    "mw.save_metric_json(file_path=f\"/tmp/{instance_id}_metric.json\", query_kwargs=query_kwargs)\n",
    "mw.save_response_json(file_path=f\"/tmp/{instance_id}_response.json\", query_kwargs=query_kwargs)"
   ]
  },
  {
   "cell_type": "markdown",
   "metadata": {},
   "source": [
    "### Manual EC2 querying\n",
    "\n",
    "For users that require more control over the EC2 instance query settings, the `query_ec2_metrics` method can be used to manually query the EC2 instance. For instance it allows to fine tune the query period settings."
   ]
  },
  {
   "cell_type": "code",
   "execution_count": 11,
   "metadata": {},
   "outputs": [
    {
     "data": {
      "text/plain": [
       "{'RequestId': 'bb3880e0-17e6-45d2-a007-a7b797c6d52f',\n",
       " 'HTTPStatusCode': 200,\n",
       " 'HTTPHeaders': {'x-amzn-requestid': 'bb3880e0-17e6-45d2-a007-a7b797c6d52f',\n",
       "  'content-type': 'text/xml',\n",
       "  'content-length': '33663',\n",
       "  'date': 'Tue, 08 Nov 2022 16:46:07 GMT'},\n",
       " 'RetryAttempts': 0}"
      ]
     },
     "execution_count": 11,
     "metadata": {},
     "output_type": "execute_result"
    }
   ],
   "source": [
    "FINE_TUNED_SETTINGS = {\n",
    "    \"days\": 5,\n",
    "    \"hours\": 0,\n",
    "    \"minutes\": 0,\n",
    "    \"stat\": \"Maximum\",\n",
    "    \"period\": 60,\n",
    "}\n",
    "response = mw.query_ec2_metrics(**FINE_TUNED_SETTINGS)\n",
    "\n",
    "response[\"ResponseMetadata\"]"
   ]
  },
  {
   "cell_type": "markdown",
   "metadata": {},
   "source": [
    "### `TimedMetric` dataclass\n",
    "\n",
    "Internally, the package uses `TimedMetric` dataclass to store the metric data. This dataclass is used to store the metric data and provide a convenient interface to access the data. It can be also used to interact with the metric data by the user."
   ]
  },
  {
   "cell_type": "code",
   "execution_count": 12,
   "metadata": {},
   "outputs": [
    {
     "name": "stdout",
     "output_type": "stream",
     "text": [
      "<class 'cloudwatcher.metric_handlers.TimedMetric'>\n"
     ]
    },
    {
     "data": {
      "text/plain": [
       "[1173819392.0,\n",
       " 1172045824.0,\n",
       " 1171132416.0,\n",
       " 1170399232.0,\n",
       " 1170014208.0,\n",
       " 1168662528.0,\n",
       " 1168093184.0,\n",
       " 2711384064.0,\n",
       " 2704683008.0]"
      ]
     },
     "execution_count": 12,
     "metadata": {},
     "output_type": "execute_result"
    }
   ],
   "source": [
    "response = mw.query_ec2_metrics(**FINE_TUNED_SETTINGS)\n",
    "timed_metric = mw.timed_metric_factory(response)[0]\n",
    "print(timed_metric.__class__)\n",
    "timed_metric.values[1:10]"
   ]
  },
  {
   "cell_type": "markdown",
   "metadata": {},
   "source": [
    "## `LogWatcher`: convenient interface to AWS CloudWatch logs\n",
    "\n",
    "`LogWatcher` can be used to interact with AWS CloudWatch logs.\n",
    "\n",
    "_Coming soon..._"
   ]
  }
 ],
 "metadata": {
  "kernelspec": {
   "display_name": "Python 3.8.9 ('cloudwatcher-KxCCWe1d-py3.8')",
   "language": "python",
   "name": "python3"
  },
  "language_info": {
   "codemirror_mode": {
    "name": "ipython",
    "version": 3
   },
   "file_extension": ".py",
   "mimetype": "text/x-python",
   "name": "python",
   "nbconvert_exporter": "python",
   "pygments_lexer": "ipython3",
   "version": "3.8.9"
  },
  "orig_nbformat": 4,
  "vscode": {
   "interpreter": {
    "hash": "4d7f7e559600332ff0dc37dc6eb58bfc6431dddd5a32651386b47ac3a3367ecf"
   }
  }
 },
 "nbformat": 4,
 "nbformat_minor": 2
}
