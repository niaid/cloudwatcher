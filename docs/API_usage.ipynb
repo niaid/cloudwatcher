{
 "cells": [
  {
   "attachments": {},
   "cell_type": "markdown",
   "metadata": {},
   "source": [
    "# `cloudwatcher` Python API usage\n",
    "\n",
    "The purpose of this page is to provide a quick overview of the `cloudwatcher` Python API. The package consists of two user-facing classes:\n",
    "\n",
    "- `MetricWatcher`: This class is used to interact with AWS CloudWatch metrics.\n",
    "- `LogWatcher`: This class is used to interact with AWS CloudWatch logs.\n",
    "\n",
    "Both of these classes inherit from the `CloudWatcher` class.\n",
    "\n",
    "## `MetricWatcher`: convenient interface to AWS CloudWatch metrics\n",
    "\n",
    "`MetricWatcher` can be used to interact with AWS CloudWatch metrics. "
   ]
  },
  {
   "attachments": {},
   "cell_type": "markdown",
   "metadata": {},
   "source": [
    "### `MetricWatcher` initialization\n",
    "\n",
    "As described in the Login credentials section, the AWS credentials can be sourced from environment variables: `AWS_ACCESS_KEY_ID`, `AWS_SECRET_ACCESS_KEY`, `AWS_SESSION_TOKEN`.\n",
    "Alternatively, you can pass the values as arguments to the `MetricWatcher` constructor."
   ]
  },
  {
   "cell_type": "code",
   "execution_count": 1,
   "metadata": {},
   "outputs": [],
   "source": [
    "from cloudwatcher.metricwatcher import MetricWatcher\n",
    "from cloudwatcher.preset import Dimension\n",
    "from dotenv import load_dotenv\n",
    "import os\n",
    "\n",
    "load_dotenv()\n",
    "\n",
    "instance_id = os.environ.get(\"INSTANCE_ID\")\n",
    "mw = MetricWatcher(\n",
    "    namespace=\"NepheleNamespaceEC2\",\n",
    "    metric_name=\"mem_used\",\n",
    "    metric_id=\"mem_used\",\n",
    "    metric_unit=\"Bytes\",\n",
    "    dimensions_list=[Dimension(Name=\"InstanceId\", Value=instance_id)],\n",
    ")"
   ]
  },
  {
   "attachments": {},
   "cell_type": "markdown",
   "metadata": {},
   "source": [
    "### `MetricWatcher` presets\n",
    "\n",
    "As you can see there are multiple arguments that can be passed to `MetricWatcher` constructor. In order to improve the UX when using `MetricWatcher` `cloudwatcher` package provides a few presets that can be used to query the data reported by `CloudWatchAgent` within certain systems. Additionally, custom presets can be defined by the user and used in the same way.\n",
    "\n",
    "Presets are JSON-formatted files that provide parameter bundles for `MetricWatcher` initialization.\n",
    "\n",
    "#### Usage\n",
    "\n",
    "Listing available presets:\n"
   ]
  },
  {
   "cell_type": "code",
   "execution_count": 2,
   "metadata": {},
   "outputs": [
    {
     "data": {
      "text/html": [
       "<pre style=\"white-space:pre;overflow-x:auto;line-height:normal;font-family:Menlo,'DejaVu Sans Mono',consolas,'Courier New',monospace\"><span style=\"font-style: italic\">                 Presets available in: /Users/stolarczykmj/code/cloudwatcher/cloudwatcher/presets                  </span>\n",
       "┏━━━━━━━━━━━━━━━━━━━━━━━━━━━━━━━━━━━━━━━━┳━━━━━━━━━━━━━━━━━━━━━━━━━━━━━━━━━━━━━━━━━━━━━━━━━━━━━━━━━━━━━━━━━━━━━━━━┓\n",
       "┃<span style=\"color: #800080; text-decoration-color: #800080; font-weight: bold\"> Name                                   </span>┃<span style=\"color: #800080; text-decoration-color: #800080; font-weight: bold\"> Path                                                                   </span>┃\n",
       "┡━━━━━━━━━━━━━━━━━━━━━━━━━━━━━━━━━━━━━━━━╇━━━━━━━━━━━━━━━━━━━━━━━━━━━━━━━━━━━━━━━━━━━━━━━━━━━━━━━━━━━━━━━━━━━━━━━━┩\n",
       "│ nephele_disk_used_percent              │<span style=\"color: #7f7f7f; text-decoration-color: #7f7f7f\"> /Users/stolarczykmj/code/cloudwatcher/cloudwatcher/presets/nephele_di… </span>│\n",
       "│ nephele_mem_cached                     │<span style=\"color: #7f7f7f; text-decoration-color: #7f7f7f\"> /Users/stolarczykmj/code/cloudwatcher/cloudwatcher/presets/nephele_me… </span>│\n",
       "│ nephele_mem                            │<span style=\"color: #7f7f7f; text-decoration-color: #7f7f7f\"> /Users/stolarczykmj/code/cloudwatcher/cloudwatcher/presets/nephele_me… </span>│\n",
       "│ nephele_disk_used_percent_nephele_data │<span style=\"color: #7f7f7f; text-decoration-color: #7f7f7f\"> /Users/stolarczykmj/code/cloudwatcher/cloudwatcher/presets/nephele_di… </span>│\n",
       "│ nephele_cpu_usage_user                 │<span style=\"color: #7f7f7f; text-decoration-color: #7f7f7f\"> /Users/stolarczykmj/code/cloudwatcher/cloudwatcher/presets/nephele_cp… </span>│\n",
       "│ nephele_processes_dead                 │<span style=\"color: #7f7f7f; text-decoration-color: #7f7f7f\"> /Users/stolarczykmj/code/cloudwatcher/cloudwatcher/presets/nephele_pr… </span>│\n",
       "│ nephele_swap_used_percent              │<span style=\"color: #7f7f7f; text-decoration-color: #7f7f7f\"> /Users/stolarczykmj/code/cloudwatcher/cloudwatcher/presets/nephele_sw… </span>│\n",
       "│ nephele_swap_used                      │<span style=\"color: #7f7f7f; text-decoration-color: #7f7f7f\"> /Users/stolarczykmj/code/cloudwatcher/cloudwatcher/presets/nephele_sw… </span>│\n",
       "└────────────────────────────────────────┴────────────────────────────────────────────────────────────────────────┘\n",
       "</pre>\n"
      ],
      "text/plain": [
       "\u001b[3m                 Presets available in: /Users/stolarczykmj/code/cloudwatcher/cloudwatcher/presets                  \u001b[0m\n",
       "┏━━━━━━━━━━━━━━━━━━━━━━━━━━━━━━━━━━━━━━━━┳━━━━━━━━━━━━━━━━━━━━━━━━━━━━━━━━━━━━━━━━━━━━━━━━━━━━━━━━━━━━━━━━━━━━━━━━┓\n",
       "┃\u001b[1;35m \u001b[0m\u001b[1;35mName                                  \u001b[0m\u001b[1;35m \u001b[0m┃\u001b[1;35m \u001b[0m\u001b[1;35mPath                                                                  \u001b[0m\u001b[1;35m \u001b[0m┃\n",
       "┡━━━━━━━━━━━━━━━━━━━━━━━━━━━━━━━━━━━━━━━━╇━━━━━━━━━━━━━━━━━━━━━━━━━━━━━━━━━━━━━━━━━━━━━━━━━━━━━━━━━━━━━━━━━━━━━━━━┩\n",
       "│ nephele_disk_used_percent              │\u001b[2m \u001b[0m\u001b[2m/Users/stolarczykmj/code/cloudwatcher/cloudwatcher/presets/nephele_di…\u001b[0m\u001b[2m \u001b[0m│\n",
       "│ nephele_mem_cached                     │\u001b[2m \u001b[0m\u001b[2m/Users/stolarczykmj/code/cloudwatcher/cloudwatcher/presets/nephele_me…\u001b[0m\u001b[2m \u001b[0m│\n",
       "│ nephele_mem                            │\u001b[2m \u001b[0m\u001b[2m/Users/stolarczykmj/code/cloudwatcher/cloudwatcher/presets/nephele_me…\u001b[0m\u001b[2m \u001b[0m│\n",
       "│ nephele_disk_used_percent_nephele_data │\u001b[2m \u001b[0m\u001b[2m/Users/stolarczykmj/code/cloudwatcher/cloudwatcher/presets/nephele_di…\u001b[0m\u001b[2m \u001b[0m│\n",
       "│ nephele_cpu_usage_user                 │\u001b[2m \u001b[0m\u001b[2m/Users/stolarczykmj/code/cloudwatcher/cloudwatcher/presets/nephele_cp…\u001b[0m\u001b[2m \u001b[0m│\n",
       "│ nephele_processes_dead                 │\u001b[2m \u001b[0m\u001b[2m/Users/stolarczykmj/code/cloudwatcher/cloudwatcher/presets/nephele_pr…\u001b[0m\u001b[2m \u001b[0m│\n",
       "│ nephele_swap_used_percent              │\u001b[2m \u001b[0m\u001b[2m/Users/stolarczykmj/code/cloudwatcher/cloudwatcher/presets/nephele_sw…\u001b[0m\u001b[2m \u001b[0m│\n",
       "│ nephele_swap_used                      │\u001b[2m \u001b[0m\u001b[2m/Users/stolarczykmj/code/cloudwatcher/cloudwatcher/presets/nephele_sw…\u001b[0m\u001b[2m \u001b[0m│\n",
       "└────────────────────────────────────────┴────────────────────────────────────────────────────────────────────────┘\n"
      ]
     },
     "metadata": {},
     "output_type": "display_data"
    }
   ],
   "source": [
    "from cloudwatcher.preset import PresetFilesInventory\n",
    "from rich.console import Console\n",
    "\n",
    "pfi = PresetFilesInventory()\n",
    "Console().print(pfi.presets_table)"
   ]
  },
  {
   "attachments": {},
   "cell_type": "markdown",
   "metadata": {},
   "source": [
    "Using a preset:"
   ]
  },
  {
   "cell_type": "code",
   "execution_count": 3,
   "metadata": {},
   "outputs": [
    {
     "name": "stdout",
     "output_type": "stream",
     "text": [
      "{'MetricDataResults': [{'Id': 'nephele', 'Label': 'mem_used', 'Timestamps': [], 'Values': [], 'StatusCode': 'Complete'}], 'Messages': [], 'ResponseMetadata': {'RequestId': '6f543152-1547-4c3f-a1ec-8d904e28dba2', 'HTTPStatusCode': 200, 'HTTPHeaders': {'x-amzn-requestid': '6f543152-1547-4c3f-a1ec-8d904e28dba2', 'content-type': 'text/xml', 'content-length': '496', 'date': 'Mon, 31 Jul 2023 13:51:13 GMT'}, 'RetryAttempts': 0}}\n"
     ]
    }
   ],
   "source": [
    "from cloudwatcher.preset import MetricWatcherSetup\n",
    "mw_setup = MetricWatcherSetup.from_json(pfi.get_preset_path(\"nephele_mem\"))\n",
    "mw_setup.upsert_dimensions([f\"InstanceId:{instance_id}\"])\n",
    "mw = MetricWatcher(**mw_setup.to_dict())\n",
    "query_kwargs = {\n",
    "    \"days\": 5,\n",
    "    \"hours\": 0,\n",
    "    \"minutes\": 0,\n",
    "    \"stat\": \"Maximum\",\n",
    "    \"period\": 60,\n",
    "}\n",
    "response = mw.query_ec2_metrics(**query_kwargs)\n",
    "print(response)\n"
   ]
  },
  {
   "attachments": {},
   "cell_type": "markdown",
   "metadata": {},
   "source": [
    "\n",
    "\n",
    "\n",
    "### Querying AWS CloudWatch metrics\n",
    "\n",
    "In order to specify the EC2 instace query settings (period, granularity, etc.), the user would need to provide multiple parameters. To make it easier, there are a few sensible presets that can be used to select the query settings, which are passed to `query_ec2_metrics` method. These presets are defined to query the data reported by `CloudWatchAgent` within the last day, hour or minute."
   ]
  },
  {
   "attachments": {},
   "cell_type": "markdown",
   "metadata": {},
   "source": [
    "The presets can be used by passing the `query_preset` argument to the functions presented below. Alternatively, users can pass `query_kwargs` argument, which overrides the preset values.\n",
    "\n",
    "### Logging methods\n",
    "\n",
    "There is a method that can be used to log the metric to the screen. The EC2 instance is automatically queried if the query response is not provided."
   ]
  },
  {
   "attachments": {},
   "cell_type": "markdown",
   "metadata": {},
   "source": [
    "### File saving methods\n",
    "\n",
    "There are number of methods that can be used to save the metric data to a file. Again, the EC2 instance is automatically queried if the query response is not provided.\n"
   ]
  },
  {
   "cell_type": "code",
   "execution_count": 4,
   "metadata": {},
   "outputs": [],
   "source": [
    "mw.save_metric_plot(file_path=f\"/tmp/{instance_id}_plot.png\", query_kwargs=query_kwargs)\n",
    "mw.save_metric_csv(file_path=f\"/tmp/{instance_id}_metric.csv\", query_kwargs=query_kwargs)\n",
    "mw.save_metric_json(file_path=f\"/tmp/{instance_id}_metric.json\", query_kwargs=query_kwargs)\n",
    "mw.save_response_json(file_path=f\"/tmp/{instance_id}_response.json\", query_kwargs=query_kwargs)"
   ]
  },
  {
   "attachments": {},
   "cell_type": "markdown",
   "metadata": {},
   "source": [
    "### Manual EC2 querying\n",
    "\n",
    "For users that require more control over the EC2 instance query settings, the `query_ec2_metrics` method can be used to manually query the EC2 instance. For instance it allows to fine tune the query period settings."
   ]
  },
  {
   "cell_type": "code",
   "execution_count": 5,
   "metadata": {},
   "outputs": [
    {
     "data": {
      "text/plain": [
       "{'RequestId': 'a59814d4-5445-4cb8-b539-9efb7d65716f',\n",
       " 'HTTPStatusCode': 200,\n",
       " 'HTTPHeaders': {'x-amzn-requestid': 'a59814d4-5445-4cb8-b539-9efb7d65716f',\n",
       "  'content-type': 'text/xml',\n",
       "  'content-length': '4418',\n",
       "  'date': 'Mon, 31 Jul 2023 13:51:13 GMT'},\n",
       " 'RetryAttempts': 0}"
      ]
     },
     "execution_count": 5,
     "metadata": {},
     "output_type": "execute_result"
    }
   ],
   "source": [
    "FINE_TUNED_SETTINGS = {\n",
    "    \"days\": 7,\n",
    "    \"hours\": 0,\n",
    "    \"minutes\": 0,\n",
    "    \"stat\": \"Maximum\",\n",
    "    \"period\": 60,\n",
    "}\n",
    "response = mw.query_ec2_metrics(**FINE_TUNED_SETTINGS)\n",
    "\n",
    "response[\"ResponseMetadata\"]"
   ]
  },
  {
   "attachments": {},
   "cell_type": "markdown",
   "metadata": {},
   "source": [
    "### `TimedMetric` dataclass\n",
    "\n",
    "Internally, the package uses `TimedMetric` dataclass to store the metric data. This dataclass is used to store the metric data and provide a convenient interface to access the data. It can be also used to interact with the metric data by the user."
   ]
  },
  {
   "cell_type": "code",
   "execution_count": 6,
   "metadata": {},
   "outputs": [
    {
     "name": "stdout",
     "output_type": "stream",
     "text": [
      "<class 'cloudwatcher.metric_handlers.TimedMetric'>\n"
     ]
    },
    {
     "data": {
      "text/plain": [
       "[1051193344.0,\n",
       " 22160080896.0,\n",
       " 29538459648.0,\n",
       " 29531140096.0,\n",
       " 17124524032.0,\n",
       " 29451448320.0,\n",
       " 17050480640.0,\n",
       " 29373624320.0,\n",
       " 29358415872.0]"
      ]
     },
     "execution_count": 6,
     "metadata": {},
     "output_type": "execute_result"
    }
   ],
   "source": [
    "response = mw.query_ec2_metrics(**FINE_TUNED_SETTINGS)\n",
    "timed_metric = mw.timed_metric_factory(response)[0]\n",
    "print(timed_metric.__class__)\n",
    "timed_metric.values[1:10]"
   ]
  },
  {
   "attachments": {},
   "cell_type": "markdown",
   "metadata": {},
   "source": [
    "## `LogWatcher`: convenient interface to AWS CloudWatch logs\n",
    "\n",
    "`LogWatcher` can be used to interact with AWS CloudWatch logs.\n",
    "\n",
    "### `LogWatcher` initialization\n",
    "\n",
    "As described in the Login credentials section, the AWS credentials can be sourced from environment variables: `AWS_ACCESS_KEY_ID`, `AWS_SECRET_ACCESS_KEY`, `AWS_SESSION_TOKEN`.\n",
    "Alternatively, you can pass the values as arguments to the `LogWatcher` constructor."
   ]
  },
  {
   "cell_type": "code",
   "execution_count": 7,
   "metadata": {},
   "outputs": [
    {
     "name": "stdout",
     "output_type": "stream",
     "text": [
      "LOG_GROUP_NAME: main-NepheleWorker\n",
      "LOG_STREAM_NAME: i-05cec4924aadbd516-job.log\n"
     ]
    }
   ],
   "source": [
    "from cloudwatcher.logwatcher import LogWatcher\n",
    "from dotenv import load_dotenv\n",
    "import os\n",
    "\n",
    "load_dotenv()\n",
    "x=os.environ.get(\"LOG_GROUP_NAME\")\n",
    "y=os.environ.get(\"LOG_STREAM_NAME\")\n",
    "print(f\"LOG_GROUP_NAME: {x}\")\n",
    "print(f\"LOG_STREAM_NAME: {y}\")\n",
    "\n",
    "lw = LogWatcher(\n",
    "    log_group_name=os.environ.get(\"LOG_GROUP_NAME\"),\n",
    "    log_stream_name=os.environ.get(\"LOG_STREAM_NAME\"),\n",
    ")\n"
   ]
  },
  {
   "attachments": {},
   "cell_type": "markdown",
   "metadata": {},
   "source": [
    "Importantly, you can also provide the start token for the log, which will be used to determine the starting point of the log query."
   ]
  },
  {
   "attachments": {},
   "cell_type": "markdown",
   "metadata": {},
   "source": [
    "### Log streaming\n",
    "\n",
    "`LogWatcher` provides a convenient interface to stream the logs from AWS CloudWatch. There are 2 relevant parameters in `stream_cloudwatch_logs` method:\n",
    "\n",
    "- `events_limit` - the maximum number of events to be returned. If the value is set to `None`, 1000 events are returned\n",
    "- `max_retry_attempts` - the maximum number of retry attempts to be made if the query results with an empty log\n",
    "\n",
    "The `stream_cloudwatch_logs` method returns a generator that yields the log events, for example in a `for` loop. In the example below , we use `next` to get the first event from the generator."
   ]
  },
  {
   "cell_type": "code",
   "execution_count": 8,
   "metadata": {},
   "outputs": [
    {
     "data": {
      "text/plain": [
       "LogEventsList(events=[LogEvent(message='[2023-07-25 12:58:13,421 - INFO] Nephele, developed by BCBB/OCICB/NIAID/NIH version: 2.27.1, tag: Nephele_2023_July_19, commit: 0b87cad', timestamp=datetime.datetime(2023, 7, 25, 12, 58, 14, 403000)), LogEvent(message='[2023-07-25 12:58:13,421 - INFO] Python version: 3.7.3', timestamp=datetime.datetime(2023, 7, 25, 12, 58, 14, 403000))], next_forward_token='f/37695045377463395103684887982714400219916480157627908097/s', next_backward_token='b/37695045377463395103684887982714400219916480157627908096/s')"
      ]
     },
     "execution_count": 8,
     "metadata": {},
     "output_type": "execute_result"
    }
   ],
   "source": [
    "streamer = lw.stream_cloudwatch_logs(events_limit=2, max_retry_attempts=2)\n",
    "next(streamer)"
   ]
  },
  {
   "attachments": {},
   "cell_type": "markdown",
   "metadata": {},
   "source": [
    "The log events are returned as a custom `LogEventsList` object, which conists of a list of `LogEvents` and tokens. The next token (`LogEventsList.next_forward_token`) can be used to get the next batch of log events. The token can be provided to the `LogWatcher` constructor to start streaming from the last event.\n",
    "\n",
    "### Retrieving all logs\n",
    "\n",
    "Alternatively, the `return_formatted_logs` method can be used to retrieve all the logs. This method returns a `Tuple[str,str]`, where the first element is the formatted log and the second element is the next token. "
   ]
  },
  {
   "cell_type": "code",
   "execution_count": 9,
   "metadata": {},
   "outputs": [
    {
     "name": "stdout",
     "output_type": "stream",
     "text": [
      "[25-07-2023 12:58:14 UTC] Nephele, developed by BCBB/OCICB/NIAID/NIH version: 2.27.1, tag: Nephele_2023_July_19, commit: 0b87cad\n",
      "[25-07-2023 12:58:14 UTC] Python version: 3.7.3\n",
      "[25-07-2023 12:58:14 UTC] Current time: 2023-07-25 12:58\n",
      "[25-07-2023 12:58:14 UTC] Pipeline name: Biobakery\n",
      "[25-07-2023 12:58:14 UTC] Job Description:\n",
      "[25-07-2023 12:58:14 UTC] Job parameters\n",
      "[25-07-2023 12:58:14 UTC] job_id: 5bfc066feb92\n",
      "[25-07-2023 12:58:14 UTC] map_file: <_io.TextIOWrapper name='/nephele_data/inputs/N2_16S_example_mapping_one_corrected.txt' mode='r' encoding='latin-1'>\n",
      "[25-07-2023 12:58:14 UTC] data_type: WGS_PE\n",
      "[25-07-2023 12:58:14 UTC] threads: 12\n",
      "[25-07-2023 12:58:14 UTC] local_jobs: 4\n",
      "[25-07-2023 12:58:14 UTC] strainphlan: False\n",
      "[25-07-2023 12:58:14 UTC] keep: False\n",
      "[25-07-2023 12:58:14 UTC] project_name: 5bfc066feb92\n",
      "[25-07-2023 12:58:14 UTC] inputs_dir: None\n",
      "[25-07-2023 12:58:14 UTC] outputs_dir: None\n",
      "[25-07-2023 12:58:14 UTC] Results manager initialized. Results registry path: /mnt/EFS/user_uploads/5bfc066feb92/outputs/5bfc066feb92_results_registry.json\n",
      "[25-07-2023 12:58:14 UTC] Skipping FASTQ file validation\n",
      "[25-07-2023 12:58:14 UTC] Renaming paired end files.\n",
      "[25-07-2023 12:58:14 UTC] Inputs directory: /nephele_data/outputs/renamed_inputs/\n",
      "[25-07-2023 12:58:14 UTC] Running Whole Metagenome Shotgun Workflow (wmgx).\n",
      "[25-07-2023 12:58:19 UTC] run --mount type=bind,source=/mnt/EFS/dbs/biobakery_workflows_databases_3.0.0.a.7,target=/opt/biobakery_workflows_databases --mount type=bind,source=/nephele_data/,target=/nephele_data/ --user www-data biobakery/nephele2:3.0.0.a.7 biobakery_workflows wmgx --input-extension fastq --threads 12 --input /nephele_data/outputs/renamed_inputs/ --output /nephele_data/outputs/ --skip-nothing --local-jobs 4 --taxonomic-profiling-options \"-x mpa_v30_CHOCOPhlAn_201901\" --bypass-strain-profiling\n",
      "[25-07-2023 13:38:00 UTC] Create wmgx_vis output directory: /nephele_data/outputs/wmgx_vis\n",
      "[25-07-2023 13:38:00 UTC] Checking output files from wmgx workflow that are required by wmgx_vis workflow.\n",
      "[25-07-2023 13:38:00 UTC] Running Visualization for Whole Metagenome Shotgun Workflow (wmgx_vis).\n",
      "[25-07-2023 13:38:04 UTC] run --mount type=bind,source=/mnt/EFS/dbs/biobakery_workflows_databases_3.0.0.a.7,target=/opt/biobakery_workflows_databases --mount type=bind,source=/nephele_data/,target=/nephele_data/ --user www-data biobakery/nephele2:3.0.0.a.7 biobakery_workflows wmgx_vis --input /nephele_data/outputs/ --project-name '5bfc066feb92' --format html --output /nephele_data/outputs/wmgx_vis --introduction-text \"The data was run through the standard workflow for whole metagenome shotgun sequencing  with the exception of strain profiling (StrainPhlAn).  Details of the pipelines can be found in the <a href=https://github.com/biobakery/biobakery/wiki/biobakery_workflows#2-metagenome-profiling>bioBakery Workflows Tutorial</a>.\"\n",
      "[25-07-2023 13:38:04 UTC] Checking output files from wmgx_vis pipeline.\n",
      "[25-07-2023 13:38:04 UTC] Pipeline Error:\n",
      "[25-07-2023 13:38:04 UTC] ('/nephele_data/outputs/wmgx_vis/wmgx_report.html does not exist.\\n', 'Job ID Unknown')\n",
      "[25-07-2023 13:38:04 UTC] A step in the biobakery workflows may have failed. Check anadama.log files.\n",
      "[25-07-2023 13:38:04 UTC] \n",
      "[25-07-2023 13:38:04 UTC] Cleaning up intermediate files.\n",
      "[25-07-2023 13:38:04 UTC] Removing /nephele_data/outputs/kneaddata/main/A22350.fastq\n",
      "[25-07-2023 13:38:04 UTC] Removing /nephele_data/outputs/kneaddata/main/A22831.trimmed.single.2.fastq\n",
      "[25-07-2023 13:38:04 UTC] Removing /nephele_data/outputs/kneaddata/main/A22192.trimmed.single.2.fastq\n",
      "[25-07-2023 13:38:04 UTC] Removing /nephele_data/outputs/kneaddata/main/A22350.trimmed.single.1.fastq\n",
      "[25-07-2023 13:38:04 UTC] Removing /nephele_data/outputs/kneaddata/main/A22192_hg37dec_v0.1_bowtie2_paired_contam_2.fastq\n",
      "[25-07-2023 13:38:04 UTC] Removing /nephele_data/outputs/kneaddata/main/A22350_hg37dec_v0.1_bowtie2_unmatched_1_contam.fastq\n",
      "[25-07-2023 13:38:04 UTC] Removing /nephele_data/outputs/kneaddata/main/A22192.repeats.removed.unmatched.2.fastq\n",
      "[25-07-2023 13:38:04 UTC] Removing /nephele_data/outputs/kneaddata/main/A22831.repeats.removed.1.fastq\n",
      "[25-07-2023 13:38:04 UTC] Removing /nephele_data/outputs/kneaddata/main/A22831_unmatched_1.fastq\n",
      "[25-07-2023 13:38:04 UTC] Removing /nephele_data/outputs/kneaddata/main/A22350_hg37dec_v0.1_bowtie2_unmatched_2_contam.fastq\n",
      "[25-07-2023 13:38:04 UTC] Removing /nephele_data/outputs/kneaddata/main/A22831.trimmed.1.fastq\n",
      "[25-07-2023 13:38:04 UTC] Removing /nephele_data/outputs/kneaddata/main/A22350.trimmed.1.fastq\n",
      "[25-07-2023 13:38:04 UTC] Removing /nephele_data/outputs/kneaddata/main/A22192.trimmed.1.fastq\n",
      "[25-07-2023 13:38:04 UTC] Removing /nephele_data/outputs/kneaddata/main/A22831_hg37dec_v0.1_bowtie2_paired_contam_1.fastq\n",
      "[25-07-2023 13:38:04 UTC] Removing /nephele_data/outputs/kneaddata/main/A22350.repeats.removed.unmatched.1.fastq\n",
      "[25-07-2023 13:38:04 UTC] Removing /nephele_data/outputs/kneaddata/main/A22831_hg37dec_v0.1_bowtie2_paired_contam_2.fastq\n",
      "[25-07-2023 13:38:04 UTC] Removing /nephele_data/outputs/kneaddata/main/A22831.trimmed.2.fastq\n",
      "[25-07-2023 13:38:04 UTC] Removing /nephele_data/outputs/kneaddata/main/A22192.repeats.removed.2.fastq\n",
      "[25-07-2023 13:38:04 UTC] Removing /nephele_data/outputs/kneaddata/main/A22831.fastq\n",
      "[25-07-2023 13:38:04 UTC] Removing /nephele_data/outputs/kneaddata/main/A22192.fastq\n",
      "[25-07-2023 13:38:04 UTC] Removing /nephele_data/outputs/kneaddata/main/A22350_paired_2.fastq\n",
      "[25-07-2023 13:38:04 UTC] Removing /nephele_data/outputs/kneaddata/main/A22831.repeats.removed.unmatched.1.fastq\n",
      "[25-07-2023 13:38:04 UTC] Removing /nephele_data/outputs/kneaddata/main/A22350.repeats.removed.2.fastq\n",
      "[25-07-2023 13:38:04 UTC] Removing /nephele_data/outputs/kneaddata/main/A22831_paired_2.fastq\n",
      "[25-07-2023 13:38:04 UTC] Removing /nephele_data/outputs/kneaddata/main/A22350_hg37dec_v0.1_bowtie2_paired_contam_1.fastq\n",
      "[25-07-2023 13:38:04 UTC] Removing /nephele_data/outputs/kneaddata/main/A22192_paired_2.fastq\n",
      "[25-07-2023 13:38:04 UTC] Removing /nephele_data/outputs/kneaddata/main/A22192_hg37dec_v0.1_bowtie2_paired_contam_1.fastq\n",
      "[25-07-2023 13:38:04 UTC] Removing /nephele_data/outputs/kneaddata/main/A22350_unmatched_2.fastq\n",
      "[25-07-2023 13:38:04 UTC] Removing /nephele_data/outputs/kneaddata/main/A22350_hg37dec_v0.1_bowtie2_paired_contam_2.fastq\n",
      "[25-07-2023 13:38:04 UTC] Removing /nephele_data/outputs/kneaddata/main/A22192_hg37dec_v0.1_bowtie2_unmatched_2_contam.fastq\n",
      "[25-07-2023 13:38:04 UTC] Removing /nephele_data/outputs/kneaddata/main/A22192_hg37dec_v0.1_bowtie2_unmatched_1_contam.fastq\n",
      "[25-07-2023 13:38:04 UTC] Removing /nephele_data/outputs/kneaddata/main/A22350.repeats.removed.unmatched.2.fastq\n",
      "[25-07-2023 13:38:04 UTC] Removing /nephele_data/outputs/kneaddata/main/A22350.trimmed.single.2.fastq\n",
      "[25-07-2023 13:38:04 UTC] Removing /nephele_data/outputs/kneaddata/main/A22192.trimmed.2.fastq\n",
      "[25-07-2023 13:38:04 UTC] Removing /nephele_data/outputs/kneaddata/main/A22831_unmatched_2.fastq\n",
      "[25-07-2023 13:38:04 UTC] Removing /nephele_data/outputs/kneaddata/main/A22831.repeats.removed.2.fastq\n",
      "[25-07-2023 13:38:04 UTC] Removing /nephele_data/outputs/kneaddata/main/A22831.repeats.removed.unmatched.2.fastq\n",
      "[25-07-2023 13:38:04 UTC] Removing /nephele_data/outputs/kneaddata/main/A22831_hg37dec_v0.1_bowtie2_unmatched_1_contam.fastq\n",
      "[25-07-2023 13:38:04 UTC] Removing /nephele_data/outputs/kneaddata/main/A22350_paired_1.fastq\n",
      "[25-07-2023 13:38:04 UTC] Removing /nephele_data/outputs/kneaddata/main/A22831.trimmed.single.1.fastq\n",
      "[25-07-2023 13:38:04 UTC] Removing /nephele_data/outputs/kneaddata/main/A22192.trimmed.single.1.fastq\n",
      "[25-07-2023 13:38:04 UTC] Removing /nephele_data/outputs/kneaddata/main/A22192_unmatched_1.fastq\n",
      "[25-07-2023 13:38:04 UTC] Removing /nephele_data/outputs/kneaddata/main/A22350_unmatched_1.fastq\n",
      "[25-07-2023 13:38:04 UTC] Removing /nephele_data/outputs/kneaddata/main/A22192_paired_1.fastq\n",
      "[25-07-2023 13:38:04 UTC] Removing /nephele_data/outputs/kneaddata/main/A22192.repeats.removed.unmatched.1.fastq\n",
      "[25-07-2023 13:38:04 UTC] Removing /nephele_data/outputs/kneaddata/main/A22350.repeats.removed.1.fastq\n",
      "[25-07-2023 13:38:04 UTC] Removing /nephele_data/outputs/kneaddata/main/A22831_paired_1.fastq\n",
      "[25-07-2023 13:38:04 UTC] Removing /nephele_data/outputs/kneaddata/main/A22831_hg37dec_v0.1_bowtie2_unmatched_2_contam.fastq\n",
      "[25-07-2023 13:38:04 UTC] Removing /nephele_data/outputs/kneaddata/main/A22192.repeats.removed.1.fastq\n",
      "[25-07-2023 13:38:04 UTC] Removing /nephele_data/outputs/kneaddata/main/A22192_unmatched_2.fastq\n",
      "[25-07-2023 13:38:04 UTC] Removing /nephele_data/outputs/kneaddata/main/A22350.trimmed.2.fastq\n",
      "[25-07-2023 13:38:04 UTC] Removing /nephele_data/outputs/metaphlan/main/A22192_bowtie2.sam\n",
      "[25-07-2023 13:38:04 UTC] Removing /nephele_data/outputs/metaphlan/main/A22350_bowtie2.sam\n",
      "[25-07-2023 13:38:04 UTC] Removing /nephele_data/outputs/metaphlan/main/A22831_bowtie2.sam\n",
      "[25-07-2023 13:38:04 UTC] Removing /nephele_data/outputs/humann/main/A22192_humann_temp\n",
      "[25-07-2023 13:38:04 UTC] Removing /nephele_data/outputs/humann/main/A22831_humann_temp\n",
      "[25-07-2023 13:38:09 UTC] Removing /nephele_data/outputs/humann/main/A22350_humann_temp\n"
     ]
    }
   ],
   "source": [
    "formatted_logs, token = lw.return_formatted_logs()\n",
    "\n",
    "print(formatted_logs)\n"
   ]
  }
 ],
 "metadata": {
  "kernelspec": {
   "display_name": "Python 3 (ipykernel)",
   "language": "python",
   "name": "python3"
  },
  "language_info": {
   "codemirror_mode": {
    "name": "ipython",
    "version": 3
   },
   "file_extension": ".py",
   "mimetype": "text/x-python",
   "name": "python",
   "nbconvert_exporter": "python",
   "pygments_lexer": "ipython3",
   "version": "3.9.6"
  },
  "orig_nbformat": 4,
  "vscode": {
   "interpreter": {
    "hash": "4d7f7e559600332ff0dc37dc6eb58bfc6431dddd5a32651386b47ac3a3367ecf"
   }
  }
 },
 "nbformat": 4,
 "nbformat_minor": 2
}
