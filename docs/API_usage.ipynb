{
 "cells": [
  {
   "cell_type": "markdown",
   "metadata": {},
   "source": [
    "# `cloudwatcher` Python API usage\n",
    "\n",
    "The purpose of this page is to provide a quick overview of the `cloudwatcher` Python API. The package consists of two user-facing classes:\n",
    "\n",
    "- `MetricWatcher`: This class is used to interact with AWS CloudWatch metrics.\n",
    "- `LogWatcher`: This class is used to interact with AWS CloudWatch logs.\n",
    "\n",
    "Both of these classes inherit from the `CloudWatcher` class.\n",
    "\n",
    "## `MetricWatcher`: convenient interface to AWS CloudWatch metrics\n",
    "\n",
    "`MetricWatcher` can be used to interact with AWS CloudWatch metrics. "
   ]
  },
  {
   "cell_type": "markdown",
   "metadata": {},
   "source": [
    "### `MetricWatcher` initialization\n",
    "\n",
    "As described in the Login credentials section, the AWS credentials can be sourced from environment variables: `AWS_ACCESS_KEY_ID`, `AWS_SECRET_ACCESS_KEY`, `AWS_SESSION_TOKEN`.\n",
    "Alternatively, you can pass the values as arguments to the `MetricWatcher` constructor."
   ]
  },
  {
   "cell_type": "code",
   "execution_count": 1,
   "metadata": {},
   "outputs": [],
   "source": [
    "from cloudwatcher import MetricWatcher\n",
    "from cloudwatcher.const import QUERY_KWARGS_PRESETS\n",
    "\n",
    "instance_id = \"i-0a424d0a6694039ec\"\n",
    "mw = MetricWatcher(\n",
    "    namespace=\"michal-NepheleNamespace\",\n",
    "    metric_name=\"mem_used\",\n",
    "    metric_id=\"mem_used\",\n",
    "    metric_unit=\"Bytes\",\n",
    "    dimension_value=instance_id,\n",
    "    dimension_name=\"InstanceId\",\n",
    ")"
   ]
  },
  {
   "cell_type": "markdown",
   "metadata": {},
   "source": [
    "### `MetricWatcher` EC2 query period selection\n",
    "\n",
    "In order to specify the EC2 instace query settings (period, granularity, etc.), the user would need to provide multiple parameters. To make it easier, there are a few sensible presets that can be used to select the query settings, which are passed to `query_ec2_metrics` method. These presets are defined to query the data reported by `CloudWatchAgent` within the last day, hour or minute."
   ]
  },
  {
   "cell_type": "code",
   "execution_count": 2,
   "metadata": {},
   "outputs": [
    {
     "data": {
      "text/plain": [
       "['day', 'hour', 'minute']"
      ]
     },
     "execution_count": 2,
     "metadata": {},
     "output_type": "execute_result"
    }
   ],
   "source": [
    "list(QUERY_KWARGS_PRESETS.keys())"
   ]
  },
  {
   "cell_type": "markdown",
   "metadata": {},
   "source": [
    "The presets can be used by passing the `query_preset` argument to the functions presented below. Alternatively, users can pass `query_kwargs` argument, which overrides the preset values.\n",
    "\n",
    "### Logging methods\n",
    "\n",
    "There is a method that can be used to log the metric to the screen. The EC2 instance is automatically queried if the query response is not provided."
   ]
  },
  {
   "cell_type": "code",
   "execution_count": 3,
   "metadata": {},
   "outputs": [
    {
     "data": {
      "text/html": [
       "<pre style=\"white-space:pre;overflow-x:auto;line-height:normal;font-family:Menlo,'DejaVu Sans Mono',consolas,'Courier New',monospace\">┏━━━━━━━━━━━━┳━━━━━━━━━━━━━┓\n",
       "┃<span style=\"color: #800080; text-decoration-color: #800080; font-weight: bold\"> Time (UTC) </span>┃<span style=\"color: #800080; text-decoration-color: #800080; font-weight: bold\"> Value       </span>┃\n",
       "┡━━━━━━━━━━━━╇━━━━━━━━━━━━━┩\n",
       "│<span style=\"color: #7f7f7f; text-decoration-color: #7f7f7f\">  20:06:00  </span>│ 762.426 MB  │\n",
       "│<span style=\"color: #7f7f7f; text-decoration-color: #7f7f7f\">  20:05:50  </span>│ 762.641 MB  │\n",
       "│<span style=\"color: #7f7f7f; text-decoration-color: #7f7f7f\">  20:05:40  </span>│ 762.480 MB  │\n",
       "│<span style=\"color: #7f7f7f; text-decoration-color: #7f7f7f\">  20:05:30  </span>│ 762.254 MB  │\n",
       "│<span style=\"color: #7f7f7f; text-decoration-color: #7f7f7f\">  20:05:20  </span>│ 762.715 MB  │\n",
       "│<span style=\"color: #7f7f7f; text-decoration-color: #7f7f7f\">  20:05:10  </span>│ 762.723 MB  │\n",
       "│<span style=\"color: #7f7f7f; text-decoration-color: #7f7f7f\">  20:05:00  </span>│ 762.324 MB  │\n",
       "│<span style=\"color: #7f7f7f; text-decoration-color: #7f7f7f\">  20:04:50  </span>│ 763.070 MB  │\n",
       "│<span style=\"color: #7f7f7f; text-decoration-color: #7f7f7f\">  20:04:40  </span>│ 763.223 MB  │\n",
       "│<span style=\"color: #7f7f7f; text-decoration-color: #7f7f7f\">  20:04:30  </span>│ 763.422 MB  │\n",
       "│<span style=\"color: #7f7f7f; text-decoration-color: #7f7f7f\">  20:04:20  </span>│ 761.316 MB  │\n",
       "│<span style=\"color: #7f7f7f; text-decoration-color: #7f7f7f\">  20:04:10  </span>│ 762.250 MB  │\n",
       "│<span style=\"color: #7f7f7f; text-decoration-color: #7f7f7f\">  20:04:00  </span>│ 2.107 GB    │\n",
       "│<span style=\"color: #7f7f7f; text-decoration-color: #7f7f7f\">  20:03:50  </span>│ 2.333 GB    │\n",
       "│<span style=\"color: #7f7f7f; text-decoration-color: #7f7f7f\">  20:03:40  </span>│ 2.331 GB    │\n",
       "│<span style=\"color: #7f7f7f; text-decoration-color: #7f7f7f\">  20:03:30  </span>│ 2.088 GB    │\n",
       "│<span style=\"color: #7f7f7f; text-decoration-color: #7f7f7f\">  20:03:20  </span>│ 7.882 GB    │\n",
       "│<span style=\"color: #7f7f7f; text-decoration-color: #7f7f7f\">  20:03:10  </span>│ 7.881 GB    │\n",
       "│<span style=\"color: #7f7f7f; text-decoration-color: #7f7f7f\">  20:03:00  </span>│ 2.226 GB    │\n",
       "│<span style=\"color: #7f7f7f; text-decoration-color: #7f7f7f\">  20:02:50  </span>│ 2.130 GB    │\n",
       "│<span style=\"color: #7f7f7f; text-decoration-color: #7f7f7f\">  20:02:40  </span>│ 2.002 GB    │\n",
       "│<span style=\"color: #7f7f7f; text-decoration-color: #7f7f7f\">  20:02:30  </span>│ 1.984 GB    │\n",
       "│<span style=\"color: #7f7f7f; text-decoration-color: #7f7f7f\">  20:02:20  </span>│ 1.888 GB    │\n",
       "│<span style=\"color: #7f7f7f; text-decoration-color: #7f7f7f\">  20:02:10  </span>│ 1.780 GB    │\n",
       "│<span style=\"color: #7f7f7f; text-decoration-color: #7f7f7f\">  20:02:00  </span>│ 1.836 GB    │\n",
       "│<span style=\"color: #7f7f7f; text-decoration-color: #7f7f7f\">  20:01:50  </span>│ 1.726 GB    │\n",
       "│<span style=\"color: #7f7f7f; text-decoration-color: #7f7f7f\">  20:01:40  </span>│ 2.015 GB    │\n",
       "│<span style=\"color: #7f7f7f; text-decoration-color: #7f7f7f\">  20:01:30  </span>│ 2.011 GB    │\n",
       "│<span style=\"color: #7f7f7f; text-decoration-color: #7f7f7f\">  20:01:20  </span>│ 1.464 GB    │\n",
       "│<span style=\"color: #7f7f7f; text-decoration-color: #7f7f7f\">  20:01:10  </span>│ 1.628 GB    │\n",
       "│<span style=\"color: #7f7f7f; text-decoration-color: #7f7f7f\">  20:01:00  </span>│ 1.635 GB    │\n",
       "│<span style=\"color: #7f7f7f; text-decoration-color: #7f7f7f\">  20:00:50  </span>│ 1.554 GB    │\n",
       "│<span style=\"color: #7f7f7f; text-decoration-color: #7f7f7f\">  20:00:40  </span>│ 1.322 GB    │\n",
       "│<span style=\"color: #7f7f7f; text-decoration-color: #7f7f7f\">  20:00:30  </span>│ 1.098 GB    │\n",
       "│<span style=\"color: #7f7f7f; text-decoration-color: #7f7f7f\">  20:00:20  </span>│ 1023.930 MB │\n",
       "│<span style=\"color: #7f7f7f; text-decoration-color: #7f7f7f\">  20:00:10  </span>│ 865.840 MB  │\n",
       "│<span style=\"color: #7f7f7f; text-decoration-color: #7f7f7f\">  20:00:00  </span>│ 759.039 MB  │\n",
       "│<span style=\"color: #7f7f7f; text-decoration-color: #7f7f7f\">  19:59:50  </span>│ 727.934 MB  │\n",
       "│<span style=\"color: #7f7f7f; text-decoration-color: #7f7f7f\">  19:59:40  </span>│ 704.547 MB  │\n",
       "│<span style=\"color: #7f7f7f; text-decoration-color: #7f7f7f\">  19:59:30  </span>│ 658.090 MB  │\n",
       "└────────────┴─────────────┘\n",
       "</pre>\n"
      ],
      "text/plain": [
       "┏━━━━━━━━━━━━┳━━━━━━━━━━━━━┓\n",
       "┃\u001b[1;35m \u001b[0m\u001b[1;35mTime (UTC)\u001b[0m\u001b[1;35m \u001b[0m┃\u001b[1;35m \u001b[0m\u001b[1;35mValue      \u001b[0m\u001b[1;35m \u001b[0m┃\n",
       "┡━━━━━━━━━━━━╇━━━━━━━━━━━━━┩\n",
       "│\u001b[2m \u001b[0m\u001b[2m 20:06:00 \u001b[0m\u001b[2m \u001b[0m│ 762.426 MB  │\n",
       "│\u001b[2m \u001b[0m\u001b[2m 20:05:50 \u001b[0m\u001b[2m \u001b[0m│ 762.641 MB  │\n",
       "│\u001b[2m \u001b[0m\u001b[2m 20:05:40 \u001b[0m\u001b[2m \u001b[0m│ 762.480 MB  │\n",
       "│\u001b[2m \u001b[0m\u001b[2m 20:05:30 \u001b[0m\u001b[2m \u001b[0m│ 762.254 MB  │\n",
       "│\u001b[2m \u001b[0m\u001b[2m 20:05:20 \u001b[0m\u001b[2m \u001b[0m│ 762.715 MB  │\n",
       "│\u001b[2m \u001b[0m\u001b[2m 20:05:10 \u001b[0m\u001b[2m \u001b[0m│ 762.723 MB  │\n",
       "│\u001b[2m \u001b[0m\u001b[2m 20:05:00 \u001b[0m\u001b[2m \u001b[0m│ 762.324 MB  │\n",
       "│\u001b[2m \u001b[0m\u001b[2m 20:04:50 \u001b[0m\u001b[2m \u001b[0m│ 763.070 MB  │\n",
       "│\u001b[2m \u001b[0m\u001b[2m 20:04:40 \u001b[0m\u001b[2m \u001b[0m│ 763.223 MB  │\n",
       "│\u001b[2m \u001b[0m\u001b[2m 20:04:30 \u001b[0m\u001b[2m \u001b[0m│ 763.422 MB  │\n",
       "│\u001b[2m \u001b[0m\u001b[2m 20:04:20 \u001b[0m\u001b[2m \u001b[0m│ 761.316 MB  │\n",
       "│\u001b[2m \u001b[0m\u001b[2m 20:04:10 \u001b[0m\u001b[2m \u001b[0m│ 762.250 MB  │\n",
       "│\u001b[2m \u001b[0m\u001b[2m 20:04:00 \u001b[0m\u001b[2m \u001b[0m│ 2.107 GB    │\n",
       "│\u001b[2m \u001b[0m\u001b[2m 20:03:50 \u001b[0m\u001b[2m \u001b[0m│ 2.333 GB    │\n",
       "│\u001b[2m \u001b[0m\u001b[2m 20:03:40 \u001b[0m\u001b[2m \u001b[0m│ 2.331 GB    │\n",
       "│\u001b[2m \u001b[0m\u001b[2m 20:03:30 \u001b[0m\u001b[2m \u001b[0m│ 2.088 GB    │\n",
       "│\u001b[2m \u001b[0m\u001b[2m 20:03:20 \u001b[0m\u001b[2m \u001b[0m│ 7.882 GB    │\n",
       "│\u001b[2m \u001b[0m\u001b[2m 20:03:10 \u001b[0m\u001b[2m \u001b[0m│ 7.881 GB    │\n",
       "│\u001b[2m \u001b[0m\u001b[2m 20:03:00 \u001b[0m\u001b[2m \u001b[0m│ 2.226 GB    │\n",
       "│\u001b[2m \u001b[0m\u001b[2m 20:02:50 \u001b[0m\u001b[2m \u001b[0m│ 2.130 GB    │\n",
       "│\u001b[2m \u001b[0m\u001b[2m 20:02:40 \u001b[0m\u001b[2m \u001b[0m│ 2.002 GB    │\n",
       "│\u001b[2m \u001b[0m\u001b[2m 20:02:30 \u001b[0m\u001b[2m \u001b[0m│ 1.984 GB    │\n",
       "│\u001b[2m \u001b[0m\u001b[2m 20:02:20 \u001b[0m\u001b[2m \u001b[0m│ 1.888 GB    │\n",
       "│\u001b[2m \u001b[0m\u001b[2m 20:02:10 \u001b[0m\u001b[2m \u001b[0m│ 1.780 GB    │\n",
       "│\u001b[2m \u001b[0m\u001b[2m 20:02:00 \u001b[0m\u001b[2m \u001b[0m│ 1.836 GB    │\n",
       "│\u001b[2m \u001b[0m\u001b[2m 20:01:50 \u001b[0m\u001b[2m \u001b[0m│ 1.726 GB    │\n",
       "│\u001b[2m \u001b[0m\u001b[2m 20:01:40 \u001b[0m\u001b[2m \u001b[0m│ 2.015 GB    │\n",
       "│\u001b[2m \u001b[0m\u001b[2m 20:01:30 \u001b[0m\u001b[2m \u001b[0m│ 2.011 GB    │\n",
       "│\u001b[2m \u001b[0m\u001b[2m 20:01:20 \u001b[0m\u001b[2m \u001b[0m│ 1.464 GB    │\n",
       "│\u001b[2m \u001b[0m\u001b[2m 20:01:10 \u001b[0m\u001b[2m \u001b[0m│ 1.628 GB    │\n",
       "│\u001b[2m \u001b[0m\u001b[2m 20:01:00 \u001b[0m\u001b[2m \u001b[0m│ 1.635 GB    │\n",
       "│\u001b[2m \u001b[0m\u001b[2m 20:00:50 \u001b[0m\u001b[2m \u001b[0m│ 1.554 GB    │\n",
       "│\u001b[2m \u001b[0m\u001b[2m 20:00:40 \u001b[0m\u001b[2m \u001b[0m│ 1.322 GB    │\n",
       "│\u001b[2m \u001b[0m\u001b[2m 20:00:30 \u001b[0m\u001b[2m \u001b[0m│ 1.098 GB    │\n",
       "│\u001b[2m \u001b[0m\u001b[2m 20:00:20 \u001b[0m\u001b[2m \u001b[0m│ 1023.930 MB │\n",
       "│\u001b[2m \u001b[0m\u001b[2m 20:00:10 \u001b[0m\u001b[2m \u001b[0m│ 865.840 MB  │\n",
       "│\u001b[2m \u001b[0m\u001b[2m 20:00:00 \u001b[0m\u001b[2m \u001b[0m│ 759.039 MB  │\n",
       "│\u001b[2m \u001b[0m\u001b[2m 19:59:50 \u001b[0m\u001b[2m \u001b[0m│ 727.934 MB  │\n",
       "│\u001b[2m \u001b[0m\u001b[2m 19:59:40 \u001b[0m\u001b[2m \u001b[0m│ 704.547 MB  │\n",
       "│\u001b[2m \u001b[0m\u001b[2m 19:59:30 \u001b[0m\u001b[2m \u001b[0m│ 658.090 MB  │\n",
       "└────────────┴─────────────┘\n"
      ]
     },
     "metadata": {},
     "output_type": "display_data"
    }
   ],
   "source": [
    "mw.log_metric(query_preset=\"day\")"
   ]
  },
  {
   "cell_type": "markdown",
   "metadata": {},
   "source": [
    "### File saving methods\n",
    "\n",
    "There are number of methods that can be used to save the metric data to a file. Again, the EC2 instance is automatically queried if the query response is not provided.\n"
   ]
  },
  {
   "cell_type": "code",
   "execution_count": 4,
   "metadata": {},
   "outputs": [
    {
     "data": {
      "image/png": "[encoded data removed]",
      "text/plain": [
       "<Figure size 432x288 with 1 Axes>"
      ]
     },
     "metadata": {
      "needs_background": "light"
     },
     "output_type": "display_data"
    }
   ],
   "source": [
    "mw.save_metric_plot(file_path=f\"/tmp/{instance_id}_plot.png\")\n",
    "mw.save_metric_csv(file_path=f\"/tmp/{instance_id}_metric.csv\")\n",
    "mw.save_metric_json(file_path=f\"/tmp/{instance_id}_metric.json\")\n",
    "mw.save_response_json(file_path=f\"/tmp/{instance_id}_response.json\")"
   ]
  },
  {
   "cell_type": "markdown",
   "metadata": {},
   "source": [
    "### Maunal EC2 querying\n",
    "\n",
    "For users that require more control over the EC2 instance query settings, the `query_ec2_metrics` method can be used to manually query the EC2 instance. For instance it allows to fine tune the query period settings."
   ]
  },
  {
   "cell_type": "code",
   "execution_count": 5,
   "metadata": {},
   "outputs": [
    {
     "data": {
      "text/plain": [
       "{'RequestId': '3e2aba48-c524-40fb-86af-309506615244',\n",
       " 'HTTPStatusCode': 200,\n",
       " 'HTTPHeaders': {'x-amzn-requestid': '3e2aba48-c524-40fb-86af-309506615244',\n",
       "  'content-type': 'text/xml',\n",
       "  'content-length': '1241',\n",
       "  'date': 'Thu, 28 Apr 2022 20:09:22 GMT'},\n",
       " 'RetryAttempts': 0}"
      ]
     },
     "execution_count": 5,
     "metadata": {},
     "output_type": "execute_result"
    }
   ],
   "source": [
    "FINE_TUNED_SETTINGS = {\n",
    "    \"days\": 1,\n",
    "    \"hours\": 0,\n",
    "    \"minutes\": 0,\n",
    "    \"stat\": \"Maximum\",\n",
    "    \"period\": 60,\n",
    "}\n",
    "response = mw.query_ec2_metrics(**FINE_TUNED_SETTINGS)\n",
    "\n",
    "response[\"ResponseMetadata\"]"
   ]
  },
  {
   "cell_type": "markdown",
   "metadata": {},
   "source": [
    "### `TimedMetric` dataclass\n",
    "\n",
    "Internally, the package uses `TimedMetric` dataclass to store the metric data. This dataclass is used to store the metric data and provide a convenient interface to access the data. It can be also used to interact with the metric data by the user."
   ]
  },
  {
   "cell_type": "code",
   "execution_count": 6,
   "metadata": {},
   "outputs": [
    {
     "name": "stdout",
     "output_type": "stream",
     "text": [
      "<class 'cloudwatcher.metric_handlers.TimedMetric'>\n"
     ]
    },
    {
     "data": {
      "text/plain": [
       "[799772672.0,\n",
       " 2262454272.0,\n",
       " 8463368192.0,\n",
       " 2286895104.0,\n",
       " 2163302400.0,\n",
       " 1668444160.0,\n",
       " 763293696.0]"
      ]
     },
     "execution_count": 6,
     "metadata": {},
     "output_type": "execute_result"
    }
   ],
   "source": [
    "response = mw.query_ec2_metrics(**FINE_TUNED_SETTINGS)\n",
    "timed_metric = mw.timed_metric_factory(response)[0]\n",
    "print(timed_metric.__class__)\n",
    "timed_metric.values[1:10]"
   ]
  },
  {
   "cell_type": "markdown",
   "metadata": {},
   "source": [
    "## `LogWatcher`: convenient interface to AWS CloudWatch logs\n",
    "\n",
    "`LogWatcher` can be used to interact with AWS CloudWatch logs.\n",
    "\n",
    "_Coming soon..._"
   ]
  }
 ],
 "metadata": {
  "interpreter": {
   "hash": "4d7f7e559600332ff0dc37dc6eb58bfc6431dddd5a32651386b47ac3a3367ecf"
  },
  "kernelspec": {
   "display_name": "Python 3.8.9 ('cloudwatcher-KxCCWe1d-py3.8')",
   "language": "python",
   "name": "python3"
  },
  "language_info": {
   "codemirror_mode": {
    "name": "ipython",
    "version": 3
   },
   "file_extension": ".py",
   "mimetype": "text/x-python",
   "name": "python",
   "nbconvert_exporter": "python",
   "pygments_lexer": "ipython3",
   "version": "3.8.9"
  },
  "orig_nbformat": 4
 },
 "nbformat": 4,
 "nbformat_minor": 2
}
