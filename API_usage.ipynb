{
 "cells": [
  {
   "cell_type": "markdown",
   "metadata": {},
   "source": [
    "# `cloudwatcher` Python API usage\n",
    "\n",
    "The purpose of this page is to provide a quick overview of the `cloudwatcher` Python API. The package consists of two user-facing classes:\n",
    "\n",
    "- `MetricWatcher`: This class is used to interact with AWS CloudWatch metrics.\n",
    "- `LogWatcher`: This class is used to interact with AWS CloudWatch logs.\n",
    "\n",
    "Both of these classes inherit from the `CloudWatcher` class.\n",
    "\n",
    "## `MetricWatcher`: convenient interface to AWS CloudWatch metrics\n",
    "\n",
    "`MetricWatcher` can be used to interact with AWS CloudWatch metrics. "
   ]
  },
  {
   "cell_type": "markdown",
   "metadata": {},
   "source": [
    "### `MetricWatcher` initialization\n",
    "\n",
    "As described in the Login credentials section, the AWS credentials can be sourced from environment variables: `AWS_ACCESS_KEY_ID`, `AWS_SECRET_ACCESS_KEY`, `AWS_SESSION_TOKEN`.\n",
    "Alternatively, you can pass the values as arguments to the `MetricWatcher` constructor."
   ]
  },
  {
   "cell_type": "code",
   "execution_count": 2,
   "metadata": {},
   "outputs": [],
   "source": [
    "from cloudwatcher import MetricWatcher\n",
    "from cloudwatcher.const import DEFAULT_QUERY_KWARGS\n",
    "\n",
    "instance_id = \"i-048529e65b26aaded\"\n",
    "mw = MetricWatcher(\n",
    "    namespace=\"michal-NepheleNamespace\",\n",
    "    metric_name=\"mem_used\",\n",
    "    metric_id=\"mem_used\",\n",
    "    metric_unit=\"Bytes\",\n",
    "    ec2_instance_id=instance_id,\n",
    ")"
   ]
  },
  {
   "cell_type": "markdown",
   "metadata": {},
   "source": [
    "### `MetricWatcher` EC2 query period selection\n",
    "\n",
    "In order to specify the EC2 instace query settings (period, granularity, etc.), the user would need to provide multiple parameters. To make it easier, there are a few sensible presets that can be used to select the query settings, which are passed to `query_ec2_metrics` method. These presets are defined to query the data reported by the EC2 instance within the last day, hour or minute."
   ]
  },
  {
   "cell_type": "code",
   "execution_count": 3,
   "metadata": {},
   "outputs": [
    {
     "data": {
      "text/plain": [
       "['day', 'hour', 'minute']"
      ]
     },
     "execution_count": 3,
     "metadata": {},
     "output_type": "execute_result"
    }
   ],
   "source": [
    "from cloudwatcher.const import QUERY_KWARGS_PRESETS\n",
    "\n",
    "list(QUERY_KWARGS_PRESETS.keys())"
   ]
  },
  {
   "cell_type": "markdown",
   "metadata": {},
   "source": [
    "The presets can be used by passing the `query_preset` argument to the functions presented below. Alternatively, users can pass `query_kwargs` argument, which overrides the preset values.\n",
    "\n",
    "### Logging methods\n",
    "\n",
    "There is a method that can be used to log the metric to the screen. The EC2 instance is automatically queried if the query response is not provided."
   ]
  },
  {
   "cell_type": "code",
   "execution_count": 4,
   "metadata": {},
   "outputs": [
    {
     "data": {
      "text/html": [
       "<pre style=\"white-space:pre;overflow-x:auto;line-height:normal;font-family:Menlo,'DejaVu Sans Mono',consolas,'Courier New',monospace\">┏━━━━━━━━━━━━┳━━━━━━━━━━━━┓\n",
       "┃<span style=\"color: #800080; text-decoration-color: #800080; font-weight: bold\"> Time (UTC) </span>┃<span style=\"color: #800080; text-decoration-color: #800080; font-weight: bold\"> Value      </span>┃\n",
       "┡━━━━━━━━━━━━╇━━━━━━━━━━━━┩\n",
       "│<span style=\"color: #7f7f7f; text-decoration-color: #7f7f7f\">  12:17:40  </span>│ 641.938 MB │\n",
       "│<span style=\"color: #7f7f7f; text-decoration-color: #7f7f7f\">  12:17:30  </span>│ 641.938 MB │\n",
       "│<span style=\"color: #7f7f7f; text-decoration-color: #7f7f7f\">  12:17:20  </span>│ 641.906 MB │\n",
       "│<span style=\"color: #7f7f7f; text-decoration-color: #7f7f7f\">  12:17:10  </span>│ 641.945 MB │\n",
       "│<span style=\"color: #7f7f7f; text-decoration-color: #7f7f7f\">  12:17:00  </span>│ 641.438 MB │\n",
       "│<span style=\"color: #7f7f7f; text-decoration-color: #7f7f7f\">  12:16:50  </span>│ 640.918 MB │\n",
       "│<span style=\"color: #7f7f7f; text-decoration-color: #7f7f7f\">  12:16:40  </span>│ 640.918 MB │\n",
       "│<span style=\"color: #7f7f7f; text-decoration-color: #7f7f7f\">  12:16:30  </span>│ 640.887 MB │\n",
       "│<span style=\"color: #7f7f7f; text-decoration-color: #7f7f7f\">  12:16:20  </span>│ 641.262 MB │\n",
       "│<span style=\"color: #7f7f7f; text-decoration-color: #7f7f7f\">  12:16:10  </span>│ 641.441 MB │\n",
       "│<span style=\"color: #7f7f7f; text-decoration-color: #7f7f7f\">  12:16:00  </span>│ 641.441 MB │\n",
       "│<span style=\"color: #7f7f7f; text-decoration-color: #7f7f7f\">  12:15:50  </span>│ 767.469 MB │\n",
       "│<span style=\"color: #7f7f7f; text-decoration-color: #7f7f7f\">  12:15:40  </span>│ 2.078 GB   │\n",
       "│<span style=\"color: #7f7f7f; text-decoration-color: #7f7f7f\">  12:15:30  </span>│ 2.079 GB   │\n",
       "│<span style=\"color: #7f7f7f; text-decoration-color: #7f7f7f\">  12:15:20  </span>│ 2.304 GB   │\n",
       "│<span style=\"color: #7f7f7f; text-decoration-color: #7f7f7f\">  12:15:10  </span>│ 2.064 GB   │\n",
       "│<span style=\"color: #7f7f7f; text-decoration-color: #7f7f7f\">  12:15:00  </span>│ 7.922 GB   │\n",
       "│<span style=\"color: #7f7f7f; text-decoration-color: #7f7f7f\">  12:14:50  </span>│ 7.789 GB   │\n",
       "│<span style=\"color: #7f7f7f; text-decoration-color: #7f7f7f\">  12:14:40  </span>│ 2.307 GB   │\n",
       "│<span style=\"color: #7f7f7f; text-decoration-color: #7f7f7f\">  12:14:30  </span>│ 2.128 GB   │\n",
       "│<span style=\"color: #7f7f7f; text-decoration-color: #7f7f7f\">  12:14:20  </span>│ 2.122 GB   │\n",
       "│<span style=\"color: #7f7f7f; text-decoration-color: #7f7f7f\">  12:14:10  </span>│ 2.095 GB   │\n",
       "│<span style=\"color: #7f7f7f; text-decoration-color: #7f7f7f\">  12:14:00  </span>│ 1.995 GB   │\n",
       "│<span style=\"color: #7f7f7f; text-decoration-color: #7f7f7f\">  12:13:50  </span>│ 1.886 GB   │\n",
       "│<span style=\"color: #7f7f7f; text-decoration-color: #7f7f7f\">  12:13:40  </span>│ 1.926 GB   │\n",
       "│<span style=\"color: #7f7f7f; text-decoration-color: #7f7f7f\">  12:13:30  </span>│ 1.730 GB   │\n",
       "│<span style=\"color: #7f7f7f; text-decoration-color: #7f7f7f\">  12:13:20  </span>│ 1.730 GB   │\n",
       "│<span style=\"color: #7f7f7f; text-decoration-color: #7f7f7f\">  12:13:10  </span>│ 1.555 GB   │\n",
       "│<span style=\"color: #7f7f7f; text-decoration-color: #7f7f7f\">  12:13:00  </span>│ 1.492 GB   │\n",
       "│<span style=\"color: #7f7f7f; text-decoration-color: #7f7f7f\">  12:12:50  </span>│ 1.462 GB   │\n",
       "│<span style=\"color: #7f7f7f; text-decoration-color: #7f7f7f\">  12:12:40  </span>│ 1.540 GB   │\n",
       "│<span style=\"color: #7f7f7f; text-decoration-color: #7f7f7f\">  12:12:30  </span>│ 1.313 GB   │\n",
       "│<span style=\"color: #7f7f7f; text-decoration-color: #7f7f7f\">  12:12:20  </span>│ 967.289 MB │\n",
       "│<span style=\"color: #7f7f7f; text-decoration-color: #7f7f7f\">  12:12:10  </span>│ 832.797 MB │\n",
       "│<span style=\"color: #7f7f7f; text-decoration-color: #7f7f7f\">  12:12:00  </span>│ 1.134 GB   │\n",
       "│<span style=\"color: #7f7f7f; text-decoration-color: #7f7f7f\">  12:11:50  </span>│ 1.031 GB   │\n",
       "│<span style=\"color: #7f7f7f; text-decoration-color: #7f7f7f\">  12:11:40  </span>│ 958.074 MB │\n",
       "│<span style=\"color: #7f7f7f; text-decoration-color: #7f7f7f\">  12:11:30  </span>│ 860.031 MB │\n",
       "│<span style=\"color: #7f7f7f; text-decoration-color: #7f7f7f\">  12:11:20  </span>│ 799.848 MB │\n",
       "│<span style=\"color: #7f7f7f; text-decoration-color: #7f7f7f\">  12:11:10  </span>│ 740.176 MB │\n",
       "│<span style=\"color: #7f7f7f; text-decoration-color: #7f7f7f\">  12:11:00  </span>│ 679.586 MB │\n",
       "│<span style=\"color: #7f7f7f; text-decoration-color: #7f7f7f\">  12:10:50  </span>│ 698.457 MB │\n",
       "│<span style=\"color: #7f7f7f; text-decoration-color: #7f7f7f\">  12:10:40  </span>│ 689.941 MB │\n",
       "│<span style=\"color: #7f7f7f; text-decoration-color: #7f7f7f\">  12:10:30  </span>│ 624.820 MB │\n",
       "└────────────┴────────────┘\n",
       "</pre>\n"
      ],
      "text/plain": [
       "┏━━━━━━━━━━━━┳━━━━━━━━━━━━┓\n",
       "┃\u001b[1;35m \u001b[0m\u001b[1;35mTime (UTC)\u001b[0m\u001b[1;35m \u001b[0m┃\u001b[1;35m \u001b[0m\u001b[1;35mValue     \u001b[0m\u001b[1;35m \u001b[0m┃\n",
       "┡━━━━━━━━━━━━╇━━━━━━━━━━━━┩\n",
       "│\u001b[2m \u001b[0m\u001b[2m 12:17:40 \u001b[0m\u001b[2m \u001b[0m│ 641.938 MB │\n",
       "│\u001b[2m \u001b[0m\u001b[2m 12:17:30 \u001b[0m\u001b[2m \u001b[0m│ 641.938 MB │\n",
       "│\u001b[2m \u001b[0m\u001b[2m 12:17:20 \u001b[0m\u001b[2m \u001b[0m│ 641.906 MB │\n",
       "│\u001b[2m \u001b[0m\u001b[2m 12:17:10 \u001b[0m\u001b[2m \u001b[0m│ 641.945 MB │\n",
       "│\u001b[2m \u001b[0m\u001b[2m 12:17:00 \u001b[0m\u001b[2m \u001b[0m│ 641.438 MB │\n",
       "│\u001b[2m \u001b[0m\u001b[2m 12:16:50 \u001b[0m\u001b[2m \u001b[0m│ 640.918 MB │\n",
       "│\u001b[2m \u001b[0m\u001b[2m 12:16:40 \u001b[0m\u001b[2m \u001b[0m│ 640.918 MB │\n",
       "│\u001b[2m \u001b[0m\u001b[2m 12:16:30 \u001b[0m\u001b[2m \u001b[0m│ 640.887 MB │\n",
       "│\u001b[2m \u001b[0m\u001b[2m 12:16:20 \u001b[0m\u001b[2m \u001b[0m│ 641.262 MB │\n",
       "│\u001b[2m \u001b[0m\u001b[2m 12:16:10 \u001b[0m\u001b[2m \u001b[0m│ 641.441 MB │\n",
       "│\u001b[2m \u001b[0m\u001b[2m 12:16:00 \u001b[0m\u001b[2m \u001b[0m│ 641.441 MB │\n",
       "│\u001b[2m \u001b[0m\u001b[2m 12:15:50 \u001b[0m\u001b[2m \u001b[0m│ 767.469 MB │\n",
       "│\u001b[2m \u001b[0m\u001b[2m 12:15:40 \u001b[0m\u001b[2m \u001b[0m│ 2.078 GB   │\n",
       "│\u001b[2m \u001b[0m\u001b[2m 12:15:30 \u001b[0m\u001b[2m \u001b[0m│ 2.079 GB   │\n",
       "│\u001b[2m \u001b[0m\u001b[2m 12:15:20 \u001b[0m\u001b[2m \u001b[0m│ 2.304 GB   │\n",
       "│\u001b[2m \u001b[0m\u001b[2m 12:15:10 \u001b[0m\u001b[2m \u001b[0m│ 2.064 GB   │\n",
       "│\u001b[2m \u001b[0m\u001b[2m 12:15:00 \u001b[0m\u001b[2m \u001b[0m│ 7.922 GB   │\n",
       "│\u001b[2m \u001b[0m\u001b[2m 12:14:50 \u001b[0m\u001b[2m \u001b[0m│ 7.789 GB   │\n",
       "│\u001b[2m \u001b[0m\u001b[2m 12:14:40 \u001b[0m\u001b[2m \u001b[0m│ 2.307 GB   │\n",
       "│\u001b[2m \u001b[0m\u001b[2m 12:14:30 \u001b[0m\u001b[2m \u001b[0m│ 2.128 GB   │\n",
       "│\u001b[2m \u001b[0m\u001b[2m 12:14:20 \u001b[0m\u001b[2m \u001b[0m│ 2.122 GB   │\n",
       "│\u001b[2m \u001b[0m\u001b[2m 12:14:10 \u001b[0m\u001b[2m \u001b[0m│ 2.095 GB   │\n",
       "│\u001b[2m \u001b[0m\u001b[2m 12:14:00 \u001b[0m\u001b[2m \u001b[0m│ 1.995 GB   │\n",
       "│\u001b[2m \u001b[0m\u001b[2m 12:13:50 \u001b[0m\u001b[2m \u001b[0m│ 1.886 GB   │\n",
       "│\u001b[2m \u001b[0m\u001b[2m 12:13:40 \u001b[0m\u001b[2m \u001b[0m│ 1.926 GB   │\n",
       "│\u001b[2m \u001b[0m\u001b[2m 12:13:30 \u001b[0m\u001b[2m \u001b[0m│ 1.730 GB   │\n",
       "│\u001b[2m \u001b[0m\u001b[2m 12:13:20 \u001b[0m\u001b[2m \u001b[0m│ 1.730 GB   │\n",
       "│\u001b[2m \u001b[0m\u001b[2m 12:13:10 \u001b[0m\u001b[2m \u001b[0m│ 1.555 GB   │\n",
       "│\u001b[2m \u001b[0m\u001b[2m 12:13:00 \u001b[0m\u001b[2m \u001b[0m│ 1.492 GB   │\n",
       "│\u001b[2m \u001b[0m\u001b[2m 12:12:50 \u001b[0m\u001b[2m \u001b[0m│ 1.462 GB   │\n",
       "│\u001b[2m \u001b[0m\u001b[2m 12:12:40 \u001b[0m\u001b[2m \u001b[0m│ 1.540 GB   │\n",
       "│\u001b[2m \u001b[0m\u001b[2m 12:12:30 \u001b[0m\u001b[2m \u001b[0m│ 1.313 GB   │\n",
       "│\u001b[2m \u001b[0m\u001b[2m 12:12:20 \u001b[0m\u001b[2m \u001b[0m│ 967.289 MB │\n",
       "│\u001b[2m \u001b[0m\u001b[2m 12:12:10 \u001b[0m\u001b[2m \u001b[0m│ 832.797 MB │\n",
       "│\u001b[2m \u001b[0m\u001b[2m 12:12:00 \u001b[0m\u001b[2m \u001b[0m│ 1.134 GB   │\n",
       "│\u001b[2m \u001b[0m\u001b[2m 12:11:50 \u001b[0m\u001b[2m \u001b[0m│ 1.031 GB   │\n",
       "│\u001b[2m \u001b[0m\u001b[2m 12:11:40 \u001b[0m\u001b[2m \u001b[0m│ 958.074 MB │\n",
       "│\u001b[2m \u001b[0m\u001b[2m 12:11:30 \u001b[0m\u001b[2m \u001b[0m│ 860.031 MB │\n",
       "│\u001b[2m \u001b[0m\u001b[2m 12:11:20 \u001b[0m\u001b[2m \u001b[0m│ 799.848 MB │\n",
       "│\u001b[2m \u001b[0m\u001b[2m 12:11:10 \u001b[0m\u001b[2m \u001b[0m│ 740.176 MB │\n",
       "│\u001b[2m \u001b[0m\u001b[2m 12:11:00 \u001b[0m\u001b[2m \u001b[0m│ 679.586 MB │\n",
       "│\u001b[2m \u001b[0m\u001b[2m 12:10:50 \u001b[0m\u001b[2m \u001b[0m│ 698.457 MB │\n",
       "│\u001b[2m \u001b[0m\u001b[2m 12:10:40 \u001b[0m\u001b[2m \u001b[0m│ 689.941 MB │\n",
       "│\u001b[2m \u001b[0m\u001b[2m 12:10:30 \u001b[0m\u001b[2m \u001b[0m│ 624.820 MB │\n",
       "└────────────┴────────────┘\n"
      ]
     },
     "metadata": {},
     "output_type": "display_data"
    }
   ],
   "source": [
    "mw.log_metric(query_preset=\"day\")"
   ]
  },
  {
   "cell_type": "markdown",
   "metadata": {},
   "source": [
    "### File saving methods\n",
    "\n",
    "There are number of methods that can be used to save the metric data to a file. Again, the EC2 instance is automatically queried if the query response is not provided.\n"
   ]
  },
  {
   "cell_type": "code",
   "execution_count": 5,
   "metadata": {},
   "outputs": [
    {
     "data": {
      "image/png": "[encoded data removed]",
      "text/plain": [
       "<Figure size 432x288 with 1 Axes>"
      ]
     },
     "metadata": {
      "needs_background": "light"
     },
     "output_type": "display_data"
    }
   ],
   "source": [
    "mw.save_metric_plot(file_path=f\"/tmp/{instance_id}_plot.png\")\n",
    "mw.save_metric_csv(file_path=f\"/tmp/{instance_id}_metric.csv\")\n",
    "mw.save_metric_json(file_path=f\"/tmp/{instance_id}_metric.json\")\n",
    "mw.save_response_json(file_path=f\"/tmp/{instance_id}_response.json\")"
   ]
  },
  {
   "cell_type": "markdown",
   "metadata": {},
   "source": [
    "### Maunal EC2 querying\n",
    "\n",
    "For users that require more control over the EC2 instance query settings, the `query_ec2_metrics` method can be used to manually query the EC2 instance. For instance it allows to fine tune the query period settings."
   ]
  },
  {
   "cell_type": "code",
   "execution_count": 6,
   "metadata": {},
   "outputs": [
    {
     "data": {
      "text/plain": [
       "{'RequestId': '20f5d4a7-6baa-4da7-ab28-b77ca796b3bb',\n",
       " 'HTTPStatusCode': 200,\n",
       " 'HTTPHeaders': {'x-amzn-requestid': '20f5d4a7-6baa-4da7-ab28-b77ca796b3bb',\n",
       "  'content-type': 'text/xml',\n",
       "  'content-length': '8116',\n",
       "  'date': 'Thu, 28 Apr 2022 14:06:33 GMT'},\n",
       " 'RetryAttempts': 0}"
      ]
     },
     "execution_count": 6,
     "metadata": {},
     "output_type": "execute_result"
    }
   ],
   "source": [
    "FINE_TUNED_SETTINGS = {\n",
    "    \"days\": 1,\n",
    "    \"hours\": 0,\n",
    "    \"minutes\": 0,\n",
    "    \"stat\": \"Maximum\",\n",
    "    \"period\": 10,\n",
    "}\n",
    "response = mw.query_ec2_metrics(**FINE_TUNED_SETTINGS)\n",
    "\n",
    "response[\"ResponseMetadata\"]"
   ]
  },
  {
   "cell_type": "markdown",
   "metadata": {},
   "source": [
    "### `TimedMetric` dataclass\n",
    "\n",
    "Internally, the package uses `TimedMetric` dataclass to store the metric data. This dataclass is used to store the metric data and provide a convenient interface to access the data. It can be also used to interact with the metric data by the user."
   ]
  },
  {
   "cell_type": "code",
   "execution_count": 8,
   "metadata": {},
   "outputs": [
    {
     "name": "stdout",
     "output_type": "stream",
     "text": [
      "<class 'cloudwatcher.metric_handlers.TimedMetric'>\n"
     ]
    },
    {
     "data": {
      "text/plain": [
       "[673120256.0,\n",
       " 673087488.0,\n",
       " 673087488.0,\n",
       " 673087488.0,\n",
       " 673120256.0,\n",
       " 673128448.0,\n",
       " 672595968.0,\n",
       " 672595968.0,\n",
       " 672051200.0]"
      ]
     },
     "execution_count": 8,
     "metadata": {},
     "output_type": "execute_result"
    }
   ],
   "source": [
    "response = mw.query_ec2_metrics(**FINE_TUNED_SETTINGS)\n",
    "timed_metric = mw.timed_metric_factory(response)[0]\n",
    "print(timed_metric.__class__)\n",
    "timed_metric.values[1:10]"
   ]
  },
  {
   "cell_type": "markdown",
   "metadata": {},
   "source": [
    "## `LogWatcher`: convenient interface to AWS CloudWatch logs\n",
    "\n",
    "`LogWatcher` can be used to interact with AWS CloudWatch logs.\n",
    "\n",
    "_Coming soon..._"
   ]
  }
 ],
 "metadata": {
  "interpreter": {
   "hash": "4d7f7e559600332ff0dc37dc6eb58bfc6431dddd5a32651386b47ac3a3367ecf"
  },
  "kernelspec": {
   "display_name": "Python 3.8.9 ('cloudwatcher-KxCCWe1d-py3.8')",
   "language": "python",
   "name": "python3"
  },
  "language_info": {
   "codemirror_mode": {
    "name": "ipython",
    "version": 3
   },
   "file_extension": ".py",
   "mimetype": "text/x-python",
   "name": "python",
   "nbconvert_exporter": "python",
   "pygments_lexer": "ipython3",
   "version": "3.8.9"
  },
  "orig_nbformat": 4
 },
 "nbformat": 4,
 "nbformat_minor": 2
}
